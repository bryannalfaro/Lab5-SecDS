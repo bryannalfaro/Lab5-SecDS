{
  "cells": [
    {
      "cell_type": "markdown",
      "metadata": {
        "id": "lRyA_emfNVRC"
      },
      "source": [
        "Integrantes  \n",
        "Bryann Alfaro  \n",
        "Raul Jimenez  \n",
        "Donaldo Garcia"
      ]
    },
    {
      "cell_type": "code",
      "execution_count": 68,
      "metadata": {
        "colab": {
          "base_uri": "https://localhost:8080/"
        },
        "id": "tpwLA5afNVRK",
        "outputId": "0c98dada-2334-4556-c1aa-d25376c3b4a0"
      },
      "outputs": [
        {
          "output_type": "stream",
          "name": "stdout",
          "text": [
            "Looking in indexes: https://pypi.org/simple, https://us-python.pkg.dev/colab-wheels/public/simple/\n",
            "Requirement already satisfied: scapy in /usr/local/lib/python3.9/dist-packages (2.5.0)\n"
          ]
        }
      ],
      "source": [
        "pip install scapy"
      ]
    },
    {
      "cell_type": "markdown",
      "metadata": {
        "id": "jtHAa3Z2NVRQ"
      },
      "source": [
        "## Parte 1 - Analisis de paquetes"
      ]
    },
    {
      "cell_type": "markdown",
      "metadata": {
        "id": "Yk8LUcJeNVRS"
      },
      "source": [
        " Analisis estadistico"
      ]
    },
    {
      "cell_type": "code",
      "execution_count": 69,
      "metadata": {
        "id": "ikj1PGjfNVRU"
      },
      "outputs": [],
      "source": [
        "from scapy.all import * # Packet manipulation\n",
        "import pandas as pd # Pandas - Create and Manipulate DataFrames\n",
        "import numpy as np # Math Stuff (don't worry only used for one line :] )\n",
        "import binascii # Binary to Ascii \n",
        "import seaborn as sns\n",
        "sns.set(color_codes=True)\n",
        "%matplotlib inline"
      ]
    },
    {
      "cell_type": "markdown",
      "source": [
        "REFERENCIA: JUPYTER BRINDADO EN CLASE"
      ],
      "metadata": {
        "id": "4UAk0Sl_PQiO"
      }
    },
    {
      "cell_type": "markdown",
      "source": [
        "Capture 10 paquetes con la herramienta scapy, imprima el tipo de datos, la longitud y el\n",
        "contenido del pcap"
      ],
      "metadata": {
        "id": "HJoyr5DuPPhW"
      }
    },
    {
      "cell_type": "code",
      "execution_count": 70,
      "metadata": {
        "id": "9yd54BFDNVRV"
      },
      "outputs": [],
      "source": [
        "pcap = sniff(count=10) #captura de 10 paquetes"
      ]
    },
    {
      "cell_type": "code",
      "source": [
        "#Impresion de tipo de dato, longitud y contenido\n",
        "print(type(pcap))\n",
        "print(len(pcap))\n",
        "for i in range(len(pcap)):\n",
        "  print(pcap[i])\n",
        "pcap[0]"
      ],
      "metadata": {
        "colab": {
          "base_uri": "https://localhost:8080/"
        },
        "id": "Kcnt_pwBNh53",
        "outputId": "244608ce-9fe3-41bd-e0b2-5dc186e2aa81"
      },
      "execution_count": 71,
      "outputs": [
        {
          "output_type": "stream",
          "name": "stdout",
          "text": [
            "<class 'scapy.plist.PacketList'>\n",
            "10\n",
            "Ether / IP / TCP 172.28.0.1:58154 > 172.28.0.12:8080 PA / Raw\n",
            "Ether / IP / TCP 172.28.0.12:8080 > 172.28.0.1:58154 PA / Raw\n",
            "Ether / IP / TCP 172.28.0.1:58154 > 172.28.0.12:8080 A\n",
            "Ether / IP / TCP 172.28.0.1:58154 > 172.28.0.12:8080 PA / Raw\n",
            "Ether / IP / TCP 172.28.0.1:58154 > 172.28.0.12:8080 PA / Raw\n",
            "Ether / IP / TCP 172.28.0.12:8080 > 172.28.0.1:58154 A\n",
            "Ether / IP / TCP 172.28.0.12:8080 > 172.28.0.1:58154 PA / Raw\n",
            "Ether / IP / TCP 172.28.0.1:58154 > 172.28.0.12:8080 A\n",
            "Ether / IP / TCP 172.28.0.1:58154 > 172.28.0.12:8080 PA / Raw\n",
            "Ether / IP / TCP 172.28.0.12:8080 > 172.28.0.1:58154 PA / Raw\n"
          ]
        },
        {
          "output_type": "execute_result",
          "data": {
            "text/plain": [
              "<Ether  dst=02:42:ac:1c:00:0c src=02:42:c4:39:2f:0f type=IPv4 |<IP  version=4 ihl=5 tos=0x0 len=545 id=39032 flags=DF frag=0 ttl=64 proto=6 chksum=0x4819 src=172.28.0.1 dst=172.28.0.12 |<TCP  sport=58154 dport=8080 seq=2328216845 ack=3215407175 dataofs=8 reserved=0 flags=PA window=501 chksum=0x5a59 urgptr=0 options=[('NOP', None), ('NOP', None), ('Timestamp', (2209647178, 258351801))] |<Raw  load='GET /socket.io/?EIO=3&sid=arHfkLKDPJ-jKQUoAAAA&t=OTANQmm&transport=polling HTTP/1.1\\r\\nHost: colab.research.google.com\\r\\nUser-Agent: Mozilla/5.0 (Windows NT 10.0; Win64; x64; rv:109.0) Gecko/20100101 Firefox/111.0,gzip(gfe)\\r\\nAccept: */*\\r\\nAccept-Encoding: gzip, deflate, br,gzip(gfe)\\r\\nAccept-Language: es-ES,es;q=0.8,en-US;q=0.5,en;q=0.3\\r\\nAlt-Used: colab.research.google.com\\r\\nReferer: https://colab.research.google.com/\\r\\nSec-Fetch-Dest: empty\\r\\nSec-Fetch-Mode: cors\\r\\nSec-Fetch-Site: same-origin\\r\\n\\r\\n' |>>>>"
            ]
          },
          "metadata": {},
          "execution_count": 71
        }
      ]
    },
    {
      "cell_type": "markdown",
      "source": [
        "Para conocer un poco mas se puede hacer la exploracion"
      ],
      "metadata": {
        "id": "-Gz2kRAZPHIc"
      }
    },
    {
      "cell_type": "code",
      "source": [
        "ethernet_frame = pcap[0]\n",
        "ip_packet = ethernet_frame.payload\n",
        "segment = ip_packet.payload\n",
        "data = segment.payload #recupera la informacion de la capa 4\n",
        "\n",
        "print(\"Informacion del frame:\")\n",
        "print(ethernet_frame.summary())\n",
        "\n",
        "print(\"Informacion del paquete:\")\n",
        "print(ip_packet.summary())\n",
        "\n",
        "print(\"Informacion del segmento:\")\n",
        "print(segment.summary())\n",
        "\n",
        "print(\"Data:\")\n",
        "print(data.summary())\n",
        "\n",
        "ethernet_frame.show()\n",
        "data.show()"
      ],
      "metadata": {
        "colab": {
          "base_uri": "https://localhost:8080/"
        },
        "id": "jtpGP8aXNldM",
        "outputId": "61c9dd90-00b4-4b94-a4b4-02c84c559ef3"
      },
      "execution_count": 72,
      "outputs": [
        {
          "output_type": "stream",
          "name": "stdout",
          "text": [
            "Informacion del frame:\n",
            "Ether / IP / TCP 172.28.0.1:58154 > 172.28.0.12:8080 PA / Raw\n",
            "Informacion del paquete:\n",
            "IP / TCP 172.28.0.1:58154 > 172.28.0.12:8080 PA / Raw\n",
            "Informacion del segmento:\n",
            "TCP 172.28.0.1:58154 > 172.28.0.12:8080 PA / Raw\n",
            "Data:\n",
            "Raw\n",
            "###[ Ethernet ]### \n",
            "  dst       = 02:42:ac:1c:00:0c\n",
            "  src       = 02:42:c4:39:2f:0f\n",
            "  type      = IPv4\n",
            "###[ IP ]### \n",
            "     version   = 4\n",
            "     ihl       = 5\n",
            "     tos       = 0x0\n",
            "     len       = 545\n",
            "     id        = 39032\n",
            "     flags     = DF\n",
            "     frag      = 0\n",
            "     ttl       = 64\n",
            "     proto     = 6\n",
            "     chksum    = 0x4819\n",
            "     src       = 172.28.0.1\n",
            "     dst       = 172.28.0.12\n",
            "     \\options   \\\n",
            "###[ TCP ]### \n",
            "        sport     = 58154\n",
            "        dport     = 8080\n",
            "        seq       = 2328216845\n",
            "        ack       = 3215407175\n",
            "        dataofs   = 8\n",
            "        reserved  = 0\n",
            "        flags     = PA\n",
            "        window    = 501\n",
            "        chksum    = 0x5a59\n",
            "        urgptr    = 0\n",
            "        options   = [('NOP', None), ('NOP', None), ('Timestamp', (2209647178, 258351801))]\n",
            "###[ Raw ]### \n",
            "           load      = 'GET /socket.io/?EIO=3&sid=arHfkLKDPJ-jKQUoAAAA&t=OTANQmm&transport=polling HTTP/1.1\\r\\nHost: colab.research.google.com\\r\\nUser-Agent: Mozilla/5.0 (Windows NT 10.0; Win64; x64; rv:109.0) Gecko/20100101 Firefox/111.0,gzip(gfe)\\r\\nAccept: */*\\r\\nAccept-Encoding: gzip, deflate, br,gzip(gfe)\\r\\nAccept-Language: es-ES,es;q=0.8,en-US;q=0.5,en;q=0.3\\r\\nAlt-Used: colab.research.google.com\\r\\nReferer: https://colab.research.google.com/\\r\\nSec-Fetch-Dest: empty\\r\\nSec-Fetch-Mode: cors\\r\\nSec-Fetch-Site: same-origin\\r\\n\\r\\n'\n",
            "\n",
            "###[ Raw ]### \n",
            "  load      = 'GET /socket.io/?EIO=3&sid=arHfkLKDPJ-jKQUoAAAA&t=OTANQmm&transport=polling HTTP/1.1\\r\\nHost: colab.research.google.com\\r\\nUser-Agent: Mozilla/5.0 (Windows NT 10.0; Win64; x64; rv:109.0) Gecko/20100101 Firefox/111.0,gzip(gfe)\\r\\nAccept: */*\\r\\nAccept-Encoding: gzip, deflate, br,gzip(gfe)\\r\\nAccept-Language: es-ES,es;q=0.8,en-US;q=0.5,en;q=0.3\\r\\nAlt-Used: colab.research.google.com\\r\\nReferer: https://colab.research.google.com/\\r\\nSec-Fetch-Dest: empty\\r\\nSec-Fetch-Mode: cors\\r\\nSec-Fetch-Site: same-origin\\r\\n\\r\\n'\n",
            "\n"
          ]
        }
      ]
    },
    {
      "cell_type": "code",
      "source": [
        "pcap2 = rdpcap('analisis_paquetes.pcap')"
      ],
      "metadata": {
        "id": "gvggC27EPJw1"
      },
      "execution_count": 73,
      "outputs": []
    },
    {
      "cell_type": "code",
      "source": [
        "print(len(pcap2))"
      ],
      "metadata": {
        "colab": {
          "base_uri": "https://localhost:8080/"
        },
        "id": "avYIrt2HQZtq",
        "outputId": "4b825da6-df9b-486d-e02e-6b1f3243313b"
      },
      "execution_count": 74,
      "outputs": [
        {
          "output_type": "stream",
          "name": "stdout",
          "text": [
            "62\n"
          ]
        }
      ]
    },
    {
      "cell_type": "code",
      "source": [
        "pcap = pcap + pcap2"
      ],
      "metadata": {
        "id": "c2Br9BrLQRQw"
      },
      "execution_count": 75,
      "outputs": []
    },
    {
      "cell_type": "code",
      "source": [
        "print(len(pcap))"
      ],
      "metadata": {
        "colab": {
          "base_uri": "https://localhost:8080/"
        },
        "id": "KEKCXsNiQUNq",
        "outputId": "f58ab4ac-4871-441a-d251-88fc4b41134b"
      },
      "execution_count": 76,
      "outputs": [
        {
          "output_type": "stream",
          "name": "stdout",
          "text": [
            "72\n"
          ]
        }
      ]
    },
    {
      "cell_type": "markdown",
      "source": [
        "Convierta el pcap a un DataFrame"
      ],
      "metadata": {
        "id": "pubDbG5kQ2U-"
      }
    },
    {
      "cell_type": "code",
      "source": [
        "# Obtenemos los campos de IP/TCP/UDP que seran las columnas de nuestro DF\n",
        "ip_fields = [field.name for field in IP().fields_desc]\n",
        "tcp_fields = [field.name for field in TCP().fields_desc]\n",
        "udp_fields = [field.name for field in UDP().fields_desc]\n",
        "\n",
        "#Concatenamos todos los campos\n",
        "dataframe_fields = ip_fields + ['time'] + tcp_fields + ['payload','payload_raw','payload_hex']\n",
        "\n",
        "# Creamos un DF en blanco con los campos como columnas\n",
        "df = pd.DataFrame(columns=dataframe_fields)\n",
        "for packet in pcap[IP]:\n",
        "    # Obtenemos los valores de los campos de cada fila\n",
        "    field_values = []\n",
        "    # A;adimos todos los valores de los campos de IP al df\n",
        "    for field in ip_fields:\n",
        "        if field == 'options':\n",
        "            # Obtenemos el numero de opciones del IP Header\n",
        "            field_values.append(len(packet[IP].fields[field]))\n",
        "        else:\n",
        "            field_values.append(packet[IP].fields[field])\n",
        "    \n",
        "    field_values.append(packet.time)\n",
        "    \n",
        "    layer_type = type(packet[IP].payload)\n",
        "    for field in tcp_fields:\n",
        "        try:\n",
        "            if field == 'options':\n",
        "                field_values.append(len(packet[layer_type].fields[field]))\n",
        "            else:\n",
        "                field_values.append(packet[layer_type].fields[field])\n",
        "        except:\n",
        "            field_values.append(None)\n",
        "    \n",
        "    # Agregamos el payload\n",
        "    field_values.append(len(packet[layer_type].payload))\n",
        "    field_values.append(packet[layer_type].payload.original)\n",
        "    field_values.append(binascii.hexlify(packet[layer_type].payload.original))\n",
        "    # Agregamos la fila al df\n",
        "    df_append = pd.DataFrame([field_values], columns=dataframe_fields)\n",
        "    df = pd.concat([df, df_append], axis=0)\n",
        "\n",
        "# Reset Index\n",
        "df = df.reset_index()\n",
        "# Drop old index column\n",
        "df = df.drop(columns=\"index\")\n",
        "\n",
        "print(df.head(5))"
      ],
      "metadata": {
        "colab": {
          "base_uri": "https://localhost:8080/"
        },
        "id": "HXWMJlOTQWBZ",
        "outputId": "6c1b5ace-6de5-4b7a-e3ec-b700714d1f2c"
      },
      "execution_count": 77,
      "outputs": [
        {
          "output_type": "stream",
          "name": "stdout",
          "text": [
            "  version ihl tos  len     id flags frag ttl proto chksum  ... dataofs  \\\n",
            "0       4   5   0  545  39032    DF    0  64     6  18457  ...       8   \n",
            "1       4   5   0  713  14214    DF    0  64     6  43107  ...       8   \n",
            "2       4   5   0   52  39033    DF    0  64     6  18949  ...       8   \n",
            "3       4   5   0  665  39034    DF    0  64     6  18335  ...       8   \n",
            "4       4   5   0  363  39035    DF    0  64     6  18636  ...       8   \n",
            "\n",
            "  reserved flags window chksum urgptr options payload  \\\n",
            "0        0    PA    501  23129      0       3     493   \n",
            "1        0    PA    501  23297      0       3     661   \n",
            "2        0     A    501  22636      0       3       0   \n",
            "3        0    PA    501  23249      0       3     613   \n",
            "4        0    PA    501  22947      0       3     311   \n",
            "\n",
            "                                         payload_raw  \\\n",
            "0  b'GET /socket.io/?EIO=3&sid=arHfkLKDPJ-jKQUoAA...   \n",
            "1  b'HTTP/1.1 200 OK\\r\\nContent-Type: text/plain;...   \n",
            "2                                                b''   \n",
            "3  b'POST /socket.io/?EIO=3&sid=arHfkLKDPJ-jKQUoA...   \n",
            "4  b'307:42/python-lsp/4,[\"data\",{\"data\":\"{\\\\\"met...   \n",
            "\n",
            "                                         payload_hex  \n",
            "0  b'474554202f736f636b65742e696f2f3f45494f3d3326...  \n",
            "1  b'485454502f312e3120323030204f4b0d0a436f6e7465...  \n",
            "2                                                b''  \n",
            "3  b'504f5354202f736f636b65742e696f2f3f45494f3d33...  \n",
            "4  b'3330373a34322f707974686f6e2d6c73702f342c5b22...  \n",
            "\n",
            "[5 rows x 28 columns]\n"
          ]
        }
      ]
    },
    {
      "cell_type": "markdown",
      "source": [
        "Muestre los valores de las columnas: Src Addres, Dst Address, Src Port y Dst Port"
      ],
      "metadata": {
        "id": "vemabHK5RBS6"
      }
    },
    {
      "cell_type": "code",
      "source": [
        "df.columns"
      ],
      "metadata": {
        "colab": {
          "base_uri": "https://localhost:8080/"
        },
        "id": "z8oFEClbQ8xm",
        "outputId": "4b64f017-cf08-44d7-a2e6-d814c138ca1d"
      },
      "execution_count": 78,
      "outputs": [
        {
          "output_type": "execute_result",
          "data": {
            "text/plain": [
              "Index(['version', 'ihl', 'tos', 'len', 'id', 'flags', 'frag', 'ttl', 'proto',\n",
              "       'chksum', 'src', 'dst', 'options', 'time', 'sport', 'dport', 'seq',\n",
              "       'ack', 'dataofs', 'reserved', 'flags', 'window', 'chksum', 'urgptr',\n",
              "       'options', 'payload', 'payload_raw', 'payload_hex'],\n",
              "      dtype='object')"
            ]
          },
          "metadata": {},
          "execution_count": 78
        }
      ]
    },
    {
      "cell_type": "code",
      "source": [
        "df['src']"
      ],
      "metadata": {
        "colab": {
          "base_uri": "https://localhost:8080/"
        },
        "id": "b3IV-x5aRGop",
        "outputId": "6f5ea56f-84fd-4101-9a72-ee1dfe42fb37"
      },
      "execution_count": 79,
      "outputs": [
        {
          "output_type": "execute_result",
          "data": {
            "text/plain": [
              "0      172.28.0.1\n",
              "1     172.28.0.12\n",
              "2      172.28.0.1\n",
              "3      172.28.0.1\n",
              "4      172.28.0.1\n",
              "         ...     \n",
              "67    84.54.22.33\n",
              "68     10.1.10.53\n",
              "69    84.54.22.33\n",
              "70     10.1.10.53\n",
              "71    84.54.22.33\n",
              "Name: src, Length: 72, dtype: object"
            ]
          },
          "metadata": {},
          "execution_count": 79
        }
      ]
    },
    {
      "cell_type": "code",
      "source": [
        "df['src'].value_counts()"
      ],
      "metadata": {
        "colab": {
          "base_uri": "https://localhost:8080/"
        },
        "id": "_JQ0zuo5RKvO",
        "outputId": "fcc3a171-42ff-4d46-f2af-1fa7e9e59cf5"
      },
      "execution_count": 80,
      "outputs": [
        {
          "output_type": "execute_result",
          "data": {
            "text/plain": [
              "10.1.10.53     31\n",
              "84.54.22.33    29\n",
              "172.28.0.1      6\n",
              "172.28.0.12     4\n",
              "75.75.75.75     2\n",
              "Name: src, dtype: int64"
            ]
          },
          "metadata": {},
          "execution_count": 80
        }
      ]
    },
    {
      "cell_type": "code",
      "source": [
        "df['dst']"
      ],
      "metadata": {
        "colab": {
          "base_uri": "https://localhost:8080/"
        },
        "id": "q_Rrxbm6RdPR",
        "outputId": "72a2db6e-5a0b-4448-caa7-60106a1499fd"
      },
      "execution_count": 81,
      "outputs": [
        {
          "output_type": "execute_result",
          "data": {
            "text/plain": [
              "0     172.28.0.12\n",
              "1      172.28.0.1\n",
              "2     172.28.0.12\n",
              "3     172.28.0.12\n",
              "4     172.28.0.12\n",
              "         ...     \n",
              "67     10.1.10.53\n",
              "68    84.54.22.33\n",
              "69     10.1.10.53\n",
              "70    84.54.22.33\n",
              "71     10.1.10.53\n",
              "Name: dst, Length: 72, dtype: object"
            ]
          },
          "metadata": {},
          "execution_count": 81
        }
      ]
    },
    {
      "cell_type": "code",
      "source": [
        "df['dst'].value_counts()"
      ],
      "metadata": {
        "colab": {
          "base_uri": "https://localhost:8080/"
        },
        "id": "tam84YQPRiOD",
        "outputId": "9c6b31f2-7113-4686-8039-d0df6e22ee95"
      },
      "execution_count": 82,
      "outputs": [
        {
          "output_type": "execute_result",
          "data": {
            "text/plain": [
              "10.1.10.53     31\n",
              "84.54.22.33    29\n",
              "172.28.0.12     6\n",
              "172.28.0.1      4\n",
              "75.75.75.75     2\n",
              "Name: dst, dtype: int64"
            ]
          },
          "metadata": {},
          "execution_count": 82
        }
      ]
    },
    {
      "cell_type": "code",
      "source": [
        "df['sport']"
      ],
      "metadata": {
        "colab": {
          "base_uri": "https://localhost:8080/"
        },
        "id": "M75qObsDRlVd",
        "outputId": "108444ff-788f-43e8-847c-6a7b5462ebcd"
      },
      "execution_count": 83,
      "outputs": [
        {
          "output_type": "execute_result",
          "data": {
            "text/plain": [
              "0     58154\n",
              "1      8080\n",
              "2     58154\n",
              "3     58154\n",
              "4     58154\n",
              "      ...  \n",
              "67       53\n",
              "68       53\n",
              "69       53\n",
              "70       53\n",
              "71       53\n",
              "Name: sport, Length: 72, dtype: object"
            ]
          },
          "metadata": {},
          "execution_count": 83
        }
      ]
    },
    {
      "cell_type": "code",
      "source": [
        "df['sport'].value_counts()"
      ],
      "metadata": {
        "colab": {
          "base_uri": "https://localhost:8080/"
        },
        "id": "UGYPTBUMRqL6",
        "outputId": "1b3fdcd3-7f27-4da4-d302-ac1173f1cbe1"
      },
      "execution_count": 84,
      "outputs": [
        {
          "output_type": "execute_result",
          "data": {
            "text/plain": [
              "53       60\n",
              "58154     6\n",
              "8080      4\n",
              "15812     1\n",
              "23903     1\n",
              "Name: sport, dtype: int64"
            ]
          },
          "metadata": {},
          "execution_count": 84
        }
      ]
    },
    {
      "cell_type": "code",
      "source": [
        "df['dport']"
      ],
      "metadata": {
        "colab": {
          "base_uri": "https://localhost:8080/"
        },
        "id": "BMwB5EHyRvcu",
        "outputId": "e2c90e5c-ffb6-4700-9f82-83807c926e89"
      },
      "execution_count": 85,
      "outputs": [
        {
          "output_type": "execute_result",
          "data": {
            "text/plain": [
              "0      8080\n",
              "1     58154\n",
              "2      8080\n",
              "3      8080\n",
              "4      8080\n",
              "      ...  \n",
              "67       53\n",
              "68       53\n",
              "69       53\n",
              "70       53\n",
              "71       53\n",
              "Name: dport, Length: 72, dtype: object"
            ]
          },
          "metadata": {},
          "execution_count": 85
        }
      ]
    },
    {
      "cell_type": "code",
      "source": [
        "df['dport'].value_counts()"
      ],
      "metadata": {
        "colab": {
          "base_uri": "https://localhost:8080/"
        },
        "id": "pMGBQ6QLRxIK",
        "outputId": "74aae465-6975-41a6-dfcd-f55f7834163e"
      },
      "execution_count": 86,
      "outputs": [
        {
          "output_type": "execute_result",
          "data": {
            "text/plain": [
              "53       60\n",
              "8080      6\n",
              "58154     4\n",
              "15812     1\n",
              "23903     1\n",
              "Name: dport, dtype: int64"
            ]
          },
          "metadata": {},
          "execution_count": 86
        }
      ]
    },
    {
      "cell_type": "markdown",
      "source": [
        "# Estadísticas"
      ],
      "metadata": {
        "id": "6MSy5_KlR3BO"
      }
    },
    {
      "cell_type": "code",
      "source": [
        "#Muestre cual es la IP origen más frecuente\n",
        "source_ip = df['src'].value_counts(ascending=False).index[0]\n",
        "source_ip"
      ],
      "metadata": {
        "colab": {
          "base_uri": "https://localhost:8080/",
          "height": 35
        },
        "id": "gdiAtwD_RzdS",
        "outputId": "af053724-b7ba-4507-8d09-0857a56f525b"
      },
      "execution_count": 87,
      "outputs": [
        {
          "output_type": "execute_result",
          "data": {
            "text/plain": [
              "'10.1.10.53'"
            ],
            "application/vnd.google.colaboratory.intrinsic+json": {
              "type": "string"
            }
          },
          "metadata": {},
          "execution_count": 87
        }
      ]
    },
    {
      "cell_type": "code",
      "source": [
        "#Muestre cual es la IP destino más frecuente\n",
        "dest_ip = df['dst'].value_counts(ascending=False).index[0]\n",
        "dest_ip"
      ],
      "metadata": {
        "colab": {
          "base_uri": "https://localhost:8080/",
          "height": 35
        },
        "id": "lGjSorl9SS25",
        "outputId": "8b52c2f6-3106-4212-b34e-57a607d09c0b"
      },
      "execution_count": 91,
      "outputs": [
        {
          "output_type": "execute_result",
          "data": {
            "text/plain": [
              "'10.1.10.53'"
            ],
            "application/vnd.google.colaboratory.intrinsic+json": {
              "type": "string"
            }
          },
          "metadata": {},
          "execution_count": 91
        }
      ]
    },
    {
      "cell_type": "code",
      "source": [
        "#¿A qué IPs se comunica la IP del inciso a?\n",
        "df[df['src']==source_ip][['src','dst']]"
      ],
      "metadata": {
        "colab": {
          "base_uri": "https://localhost:8080/",
          "height": 1000
        },
        "id": "o0ck8EW9S0jt",
        "outputId": "05517be7-7342-4809-8542-56df29be014c"
      },
      "execution_count": 89,
      "outputs": [
        {
          "output_type": "execute_result",
          "data": {
            "text/plain": [
              "           src          dst\n",
              "10  10.1.10.53  84.54.22.33\n",
              "12  10.1.10.53  84.54.22.33\n",
              "14  10.1.10.53  84.54.22.33\n",
              "16  10.1.10.53  84.54.22.33\n",
              "18  10.1.10.53  84.54.22.33\n",
              "20  10.1.10.53  84.54.22.33\n",
              "22  10.1.10.53  84.54.22.33\n",
              "24  10.1.10.53  84.54.22.33\n",
              "26  10.1.10.53  84.54.22.33\n",
              "28  10.1.10.53  84.54.22.33\n",
              "30  10.1.10.53  84.54.22.33\n",
              "32  10.1.10.53  75.75.75.75\n",
              "33  10.1.10.53  75.75.75.75\n",
              "36  10.1.10.53  84.54.22.33\n",
              "38  10.1.10.53  84.54.22.33\n",
              "40  10.1.10.53  84.54.22.33\n",
              "42  10.1.10.53  84.54.22.33\n",
              "44  10.1.10.53  84.54.22.33\n",
              "46  10.1.10.53  84.54.22.33\n",
              "48  10.1.10.53  84.54.22.33\n",
              "50  10.1.10.53  84.54.22.33\n",
              "52  10.1.10.53  84.54.22.33\n",
              "54  10.1.10.53  84.54.22.33\n",
              "56  10.1.10.53  84.54.22.33\n",
              "58  10.1.10.53  84.54.22.33\n",
              "60  10.1.10.53  84.54.22.33\n",
              "62  10.1.10.53  84.54.22.33\n",
              "64  10.1.10.53  84.54.22.33\n",
              "66  10.1.10.53  84.54.22.33\n",
              "68  10.1.10.53  84.54.22.33\n",
              "70  10.1.10.53  84.54.22.33"
            ],
            "text/html": [
              "\n",
              "  <div id=\"df-436b367f-4122-47d0-908a-a0ebc03e65c6\">\n",
              "    <div class=\"colab-df-container\">\n",
              "      <div>\n",
              "<style scoped>\n",
              "    .dataframe tbody tr th:only-of-type {\n",
              "        vertical-align: middle;\n",
              "    }\n",
              "\n",
              "    .dataframe tbody tr th {\n",
              "        vertical-align: top;\n",
              "    }\n",
              "\n",
              "    .dataframe thead th {\n",
              "        text-align: right;\n",
              "    }\n",
              "</style>\n",
              "<table border=\"1\" class=\"dataframe\">\n",
              "  <thead>\n",
              "    <tr style=\"text-align: right;\">\n",
              "      <th></th>\n",
              "      <th>src</th>\n",
              "      <th>dst</th>\n",
              "    </tr>\n",
              "  </thead>\n",
              "  <tbody>\n",
              "    <tr>\n",
              "      <th>10</th>\n",
              "      <td>10.1.10.53</td>\n",
              "      <td>84.54.22.33</td>\n",
              "    </tr>\n",
              "    <tr>\n",
              "      <th>12</th>\n",
              "      <td>10.1.10.53</td>\n",
              "      <td>84.54.22.33</td>\n",
              "    </tr>\n",
              "    <tr>\n",
              "      <th>14</th>\n",
              "      <td>10.1.10.53</td>\n",
              "      <td>84.54.22.33</td>\n",
              "    </tr>\n",
              "    <tr>\n",
              "      <th>16</th>\n",
              "      <td>10.1.10.53</td>\n",
              "      <td>84.54.22.33</td>\n",
              "    </tr>\n",
              "    <tr>\n",
              "      <th>18</th>\n",
              "      <td>10.1.10.53</td>\n",
              "      <td>84.54.22.33</td>\n",
              "    </tr>\n",
              "    <tr>\n",
              "      <th>20</th>\n",
              "      <td>10.1.10.53</td>\n",
              "      <td>84.54.22.33</td>\n",
              "    </tr>\n",
              "    <tr>\n",
              "      <th>22</th>\n",
              "      <td>10.1.10.53</td>\n",
              "      <td>84.54.22.33</td>\n",
              "    </tr>\n",
              "    <tr>\n",
              "      <th>24</th>\n",
              "      <td>10.1.10.53</td>\n",
              "      <td>84.54.22.33</td>\n",
              "    </tr>\n",
              "    <tr>\n",
              "      <th>26</th>\n",
              "      <td>10.1.10.53</td>\n",
              "      <td>84.54.22.33</td>\n",
              "    </tr>\n",
              "    <tr>\n",
              "      <th>28</th>\n",
              "      <td>10.1.10.53</td>\n",
              "      <td>84.54.22.33</td>\n",
              "    </tr>\n",
              "    <tr>\n",
              "      <th>30</th>\n",
              "      <td>10.1.10.53</td>\n",
              "      <td>84.54.22.33</td>\n",
              "    </tr>\n",
              "    <tr>\n",
              "      <th>32</th>\n",
              "      <td>10.1.10.53</td>\n",
              "      <td>75.75.75.75</td>\n",
              "    </tr>\n",
              "    <tr>\n",
              "      <th>33</th>\n",
              "      <td>10.1.10.53</td>\n",
              "      <td>75.75.75.75</td>\n",
              "    </tr>\n",
              "    <tr>\n",
              "      <th>36</th>\n",
              "      <td>10.1.10.53</td>\n",
              "      <td>84.54.22.33</td>\n",
              "    </tr>\n",
              "    <tr>\n",
              "      <th>38</th>\n",
              "      <td>10.1.10.53</td>\n",
              "      <td>84.54.22.33</td>\n",
              "    </tr>\n",
              "    <tr>\n",
              "      <th>40</th>\n",
              "      <td>10.1.10.53</td>\n",
              "      <td>84.54.22.33</td>\n",
              "    </tr>\n",
              "    <tr>\n",
              "      <th>42</th>\n",
              "      <td>10.1.10.53</td>\n",
              "      <td>84.54.22.33</td>\n",
              "    </tr>\n",
              "    <tr>\n",
              "      <th>44</th>\n",
              "      <td>10.1.10.53</td>\n",
              "      <td>84.54.22.33</td>\n",
              "    </tr>\n",
              "    <tr>\n",
              "      <th>46</th>\n",
              "      <td>10.1.10.53</td>\n",
              "      <td>84.54.22.33</td>\n",
              "    </tr>\n",
              "    <tr>\n",
              "      <th>48</th>\n",
              "      <td>10.1.10.53</td>\n",
              "      <td>84.54.22.33</td>\n",
              "    </tr>\n",
              "    <tr>\n",
              "      <th>50</th>\n",
              "      <td>10.1.10.53</td>\n",
              "      <td>84.54.22.33</td>\n",
              "    </tr>\n",
              "    <tr>\n",
              "      <th>52</th>\n",
              "      <td>10.1.10.53</td>\n",
              "      <td>84.54.22.33</td>\n",
              "    </tr>\n",
              "    <tr>\n",
              "      <th>54</th>\n",
              "      <td>10.1.10.53</td>\n",
              "      <td>84.54.22.33</td>\n",
              "    </tr>\n",
              "    <tr>\n",
              "      <th>56</th>\n",
              "      <td>10.1.10.53</td>\n",
              "      <td>84.54.22.33</td>\n",
              "    </tr>\n",
              "    <tr>\n",
              "      <th>58</th>\n",
              "      <td>10.1.10.53</td>\n",
              "      <td>84.54.22.33</td>\n",
              "    </tr>\n",
              "    <tr>\n",
              "      <th>60</th>\n",
              "      <td>10.1.10.53</td>\n",
              "      <td>84.54.22.33</td>\n",
              "    </tr>\n",
              "    <tr>\n",
              "      <th>62</th>\n",
              "      <td>10.1.10.53</td>\n",
              "      <td>84.54.22.33</td>\n",
              "    </tr>\n",
              "    <tr>\n",
              "      <th>64</th>\n",
              "      <td>10.1.10.53</td>\n",
              "      <td>84.54.22.33</td>\n",
              "    </tr>\n",
              "    <tr>\n",
              "      <th>66</th>\n",
              "      <td>10.1.10.53</td>\n",
              "      <td>84.54.22.33</td>\n",
              "    </tr>\n",
              "    <tr>\n",
              "      <th>68</th>\n",
              "      <td>10.1.10.53</td>\n",
              "      <td>84.54.22.33</td>\n",
              "    </tr>\n",
              "    <tr>\n",
              "      <th>70</th>\n",
              "      <td>10.1.10.53</td>\n",
              "      <td>84.54.22.33</td>\n",
              "    </tr>\n",
              "  </tbody>\n",
              "</table>\n",
              "</div>\n",
              "      <button class=\"colab-df-convert\" onclick=\"convertToInteractive('df-436b367f-4122-47d0-908a-a0ebc03e65c6')\"\n",
              "              title=\"Convert this dataframe to an interactive table.\"\n",
              "              style=\"display:none;\">\n",
              "        \n",
              "  <svg xmlns=\"http://www.w3.org/2000/svg\" height=\"24px\"viewBox=\"0 0 24 24\"\n",
              "       width=\"24px\">\n",
              "    <path d=\"M0 0h24v24H0V0z\" fill=\"none\"/>\n",
              "    <path d=\"M18.56 5.44l.94 2.06.94-2.06 2.06-.94-2.06-.94-.94-2.06-.94 2.06-2.06.94zm-11 1L8.5 8.5l.94-2.06 2.06-.94-2.06-.94L8.5 2.5l-.94 2.06-2.06.94zm10 10l.94 2.06.94-2.06 2.06-.94-2.06-.94-.94-2.06-.94 2.06-2.06.94z\"/><path d=\"M17.41 7.96l-1.37-1.37c-.4-.4-.92-.59-1.43-.59-.52 0-1.04.2-1.43.59L10.3 9.45l-7.72 7.72c-.78.78-.78 2.05 0 2.83L4 21.41c.39.39.9.59 1.41.59.51 0 1.02-.2 1.41-.59l7.78-7.78 2.81-2.81c.8-.78.8-2.07 0-2.86zM5.41 20L4 18.59l7.72-7.72 1.47 1.35L5.41 20z\"/>\n",
              "  </svg>\n",
              "      </button>\n",
              "      \n",
              "  <style>\n",
              "    .colab-df-container {\n",
              "      display:flex;\n",
              "      flex-wrap:wrap;\n",
              "      gap: 12px;\n",
              "    }\n",
              "\n",
              "    .colab-df-convert {\n",
              "      background-color: #E8F0FE;\n",
              "      border: none;\n",
              "      border-radius: 50%;\n",
              "      cursor: pointer;\n",
              "      display: none;\n",
              "      fill: #1967D2;\n",
              "      height: 32px;\n",
              "      padding: 0 0 0 0;\n",
              "      width: 32px;\n",
              "    }\n",
              "\n",
              "    .colab-df-convert:hover {\n",
              "      background-color: #E2EBFA;\n",
              "      box-shadow: 0px 1px 2px rgba(60, 64, 67, 0.3), 0px 1px 3px 1px rgba(60, 64, 67, 0.15);\n",
              "      fill: #174EA6;\n",
              "    }\n",
              "\n",
              "    [theme=dark] .colab-df-convert {\n",
              "      background-color: #3B4455;\n",
              "      fill: #D2E3FC;\n",
              "    }\n",
              "\n",
              "    [theme=dark] .colab-df-convert:hover {\n",
              "      background-color: #434B5C;\n",
              "      box-shadow: 0px 1px 3px 1px rgba(0, 0, 0, 0.15);\n",
              "      filter: drop-shadow(0px 1px 2px rgba(0, 0, 0, 0.3));\n",
              "      fill: #FFFFFF;\n",
              "    }\n",
              "  </style>\n",
              "\n",
              "      <script>\n",
              "        const buttonEl =\n",
              "          document.querySelector('#df-436b367f-4122-47d0-908a-a0ebc03e65c6 button.colab-df-convert');\n",
              "        buttonEl.style.display =\n",
              "          google.colab.kernel.accessAllowed ? 'block' : 'none';\n",
              "\n",
              "        async function convertToInteractive(key) {\n",
              "          const element = document.querySelector('#df-436b367f-4122-47d0-908a-a0ebc03e65c6');\n",
              "          const dataTable =\n",
              "            await google.colab.kernel.invokeFunction('convertToInteractive',\n",
              "                                                     [key], {});\n",
              "          if (!dataTable) return;\n",
              "\n",
              "          const docLinkHtml = 'Like what you see? Visit the ' +\n",
              "            '<a target=\"_blank\" href=https://colab.research.google.com/notebooks/data_table.ipynb>data table notebook</a>'\n",
              "            + ' to learn more about interactive tables.';\n",
              "          element.innerHTML = '';\n",
              "          dataTable['output_type'] = 'display_data';\n",
              "          await google.colab.output.renderOutput(dataTable, element);\n",
              "          const docLink = document.createElement('div');\n",
              "          docLink.innerHTML = docLinkHtml;\n",
              "          element.appendChild(docLink);\n",
              "        }\n",
              "      </script>\n",
              "    </div>\n",
              "  </div>\n",
              "  "
            ]
          },
          "metadata": {},
          "execution_count": 89
        }
      ]
    },
    {
      "cell_type": "code",
      "source": [
        "#¿A qué puertos destino se comunica la IP del inciso a?\n",
        "df[df['src']==source_ip][['src','dport']]"
      ],
      "metadata": {
        "colab": {
          "base_uri": "https://localhost:8080/",
          "height": 1000
        },
        "id": "OxbWdJXCWCmT",
        "outputId": "2447a4d6-cfc4-4d7a-adcd-d0b1e1db1bd6"
      },
      "execution_count": 90,
      "outputs": [
        {
          "output_type": "execute_result",
          "data": {
            "text/plain": [
              "           src dport\n",
              "10  10.1.10.53    53\n",
              "12  10.1.10.53    53\n",
              "14  10.1.10.53    53\n",
              "16  10.1.10.53    53\n",
              "18  10.1.10.53    53\n",
              "20  10.1.10.53    53\n",
              "22  10.1.10.53    53\n",
              "24  10.1.10.53    53\n",
              "26  10.1.10.53    53\n",
              "28  10.1.10.53    53\n",
              "30  10.1.10.53    53\n",
              "32  10.1.10.53    53\n",
              "33  10.1.10.53    53\n",
              "36  10.1.10.53    53\n",
              "38  10.1.10.53    53\n",
              "40  10.1.10.53    53\n",
              "42  10.1.10.53    53\n",
              "44  10.1.10.53    53\n",
              "46  10.1.10.53    53\n",
              "48  10.1.10.53    53\n",
              "50  10.1.10.53    53\n",
              "52  10.1.10.53    53\n",
              "54  10.1.10.53    53\n",
              "56  10.1.10.53    53\n",
              "58  10.1.10.53    53\n",
              "60  10.1.10.53    53\n",
              "62  10.1.10.53    53\n",
              "64  10.1.10.53    53\n",
              "66  10.1.10.53    53\n",
              "68  10.1.10.53    53\n",
              "70  10.1.10.53    53"
            ],
            "text/html": [
              "\n",
              "  <div id=\"df-7c19f98f-d77a-42d1-814c-f353719bd0bf\">\n",
              "    <div class=\"colab-df-container\">\n",
              "      <div>\n",
              "<style scoped>\n",
              "    .dataframe tbody tr th:only-of-type {\n",
              "        vertical-align: middle;\n",
              "    }\n",
              "\n",
              "    .dataframe tbody tr th {\n",
              "        vertical-align: top;\n",
              "    }\n",
              "\n",
              "    .dataframe thead th {\n",
              "        text-align: right;\n",
              "    }\n",
              "</style>\n",
              "<table border=\"1\" class=\"dataframe\">\n",
              "  <thead>\n",
              "    <tr style=\"text-align: right;\">\n",
              "      <th></th>\n",
              "      <th>src</th>\n",
              "      <th>dport</th>\n",
              "    </tr>\n",
              "  </thead>\n",
              "  <tbody>\n",
              "    <tr>\n",
              "      <th>10</th>\n",
              "      <td>10.1.10.53</td>\n",
              "      <td>53</td>\n",
              "    </tr>\n",
              "    <tr>\n",
              "      <th>12</th>\n",
              "      <td>10.1.10.53</td>\n",
              "      <td>53</td>\n",
              "    </tr>\n",
              "    <tr>\n",
              "      <th>14</th>\n",
              "      <td>10.1.10.53</td>\n",
              "      <td>53</td>\n",
              "    </tr>\n",
              "    <tr>\n",
              "      <th>16</th>\n",
              "      <td>10.1.10.53</td>\n",
              "      <td>53</td>\n",
              "    </tr>\n",
              "    <tr>\n",
              "      <th>18</th>\n",
              "      <td>10.1.10.53</td>\n",
              "      <td>53</td>\n",
              "    </tr>\n",
              "    <tr>\n",
              "      <th>20</th>\n",
              "      <td>10.1.10.53</td>\n",
              "      <td>53</td>\n",
              "    </tr>\n",
              "    <tr>\n",
              "      <th>22</th>\n",
              "      <td>10.1.10.53</td>\n",
              "      <td>53</td>\n",
              "    </tr>\n",
              "    <tr>\n",
              "      <th>24</th>\n",
              "      <td>10.1.10.53</td>\n",
              "      <td>53</td>\n",
              "    </tr>\n",
              "    <tr>\n",
              "      <th>26</th>\n",
              "      <td>10.1.10.53</td>\n",
              "      <td>53</td>\n",
              "    </tr>\n",
              "    <tr>\n",
              "      <th>28</th>\n",
              "      <td>10.1.10.53</td>\n",
              "      <td>53</td>\n",
              "    </tr>\n",
              "    <tr>\n",
              "      <th>30</th>\n",
              "      <td>10.1.10.53</td>\n",
              "      <td>53</td>\n",
              "    </tr>\n",
              "    <tr>\n",
              "      <th>32</th>\n",
              "      <td>10.1.10.53</td>\n",
              "      <td>53</td>\n",
              "    </tr>\n",
              "    <tr>\n",
              "      <th>33</th>\n",
              "      <td>10.1.10.53</td>\n",
              "      <td>53</td>\n",
              "    </tr>\n",
              "    <tr>\n",
              "      <th>36</th>\n",
              "      <td>10.1.10.53</td>\n",
              "      <td>53</td>\n",
              "    </tr>\n",
              "    <tr>\n",
              "      <th>38</th>\n",
              "      <td>10.1.10.53</td>\n",
              "      <td>53</td>\n",
              "    </tr>\n",
              "    <tr>\n",
              "      <th>40</th>\n",
              "      <td>10.1.10.53</td>\n",
              "      <td>53</td>\n",
              "    </tr>\n",
              "    <tr>\n",
              "      <th>42</th>\n",
              "      <td>10.1.10.53</td>\n",
              "      <td>53</td>\n",
              "    </tr>\n",
              "    <tr>\n",
              "      <th>44</th>\n",
              "      <td>10.1.10.53</td>\n",
              "      <td>53</td>\n",
              "    </tr>\n",
              "    <tr>\n",
              "      <th>46</th>\n",
              "      <td>10.1.10.53</td>\n",
              "      <td>53</td>\n",
              "    </tr>\n",
              "    <tr>\n",
              "      <th>48</th>\n",
              "      <td>10.1.10.53</td>\n",
              "      <td>53</td>\n",
              "    </tr>\n",
              "    <tr>\n",
              "      <th>50</th>\n",
              "      <td>10.1.10.53</td>\n",
              "      <td>53</td>\n",
              "    </tr>\n",
              "    <tr>\n",
              "      <th>52</th>\n",
              "      <td>10.1.10.53</td>\n",
              "      <td>53</td>\n",
              "    </tr>\n",
              "    <tr>\n",
              "      <th>54</th>\n",
              "      <td>10.1.10.53</td>\n",
              "      <td>53</td>\n",
              "    </tr>\n",
              "    <tr>\n",
              "      <th>56</th>\n",
              "      <td>10.1.10.53</td>\n",
              "      <td>53</td>\n",
              "    </tr>\n",
              "    <tr>\n",
              "      <th>58</th>\n",
              "      <td>10.1.10.53</td>\n",
              "      <td>53</td>\n",
              "    </tr>\n",
              "    <tr>\n",
              "      <th>60</th>\n",
              "      <td>10.1.10.53</td>\n",
              "      <td>53</td>\n",
              "    </tr>\n",
              "    <tr>\n",
              "      <th>62</th>\n",
              "      <td>10.1.10.53</td>\n",
              "      <td>53</td>\n",
              "    </tr>\n",
              "    <tr>\n",
              "      <th>64</th>\n",
              "      <td>10.1.10.53</td>\n",
              "      <td>53</td>\n",
              "    </tr>\n",
              "    <tr>\n",
              "      <th>66</th>\n",
              "      <td>10.1.10.53</td>\n",
              "      <td>53</td>\n",
              "    </tr>\n",
              "    <tr>\n",
              "      <th>68</th>\n",
              "      <td>10.1.10.53</td>\n",
              "      <td>53</td>\n",
              "    </tr>\n",
              "    <tr>\n",
              "      <th>70</th>\n",
              "      <td>10.1.10.53</td>\n",
              "      <td>53</td>\n",
              "    </tr>\n",
              "  </tbody>\n",
              "</table>\n",
              "</div>\n",
              "      <button class=\"colab-df-convert\" onclick=\"convertToInteractive('df-7c19f98f-d77a-42d1-814c-f353719bd0bf')\"\n",
              "              title=\"Convert this dataframe to an interactive table.\"\n",
              "              style=\"display:none;\">\n",
              "        \n",
              "  <svg xmlns=\"http://www.w3.org/2000/svg\" height=\"24px\"viewBox=\"0 0 24 24\"\n",
              "       width=\"24px\">\n",
              "    <path d=\"M0 0h24v24H0V0z\" fill=\"none\"/>\n",
              "    <path d=\"M18.56 5.44l.94 2.06.94-2.06 2.06-.94-2.06-.94-.94-2.06-.94 2.06-2.06.94zm-11 1L8.5 8.5l.94-2.06 2.06-.94-2.06-.94L8.5 2.5l-.94 2.06-2.06.94zm10 10l.94 2.06.94-2.06 2.06-.94-2.06-.94-.94-2.06-.94 2.06-2.06.94z\"/><path d=\"M17.41 7.96l-1.37-1.37c-.4-.4-.92-.59-1.43-.59-.52 0-1.04.2-1.43.59L10.3 9.45l-7.72 7.72c-.78.78-.78 2.05 0 2.83L4 21.41c.39.39.9.59 1.41.59.51 0 1.02-.2 1.41-.59l7.78-7.78 2.81-2.81c.8-.78.8-2.07 0-2.86zM5.41 20L4 18.59l7.72-7.72 1.47 1.35L5.41 20z\"/>\n",
              "  </svg>\n",
              "      </button>\n",
              "      \n",
              "  <style>\n",
              "    .colab-df-container {\n",
              "      display:flex;\n",
              "      flex-wrap:wrap;\n",
              "      gap: 12px;\n",
              "    }\n",
              "\n",
              "    .colab-df-convert {\n",
              "      background-color: #E8F0FE;\n",
              "      border: none;\n",
              "      border-radius: 50%;\n",
              "      cursor: pointer;\n",
              "      display: none;\n",
              "      fill: #1967D2;\n",
              "      height: 32px;\n",
              "      padding: 0 0 0 0;\n",
              "      width: 32px;\n",
              "    }\n",
              "\n",
              "    .colab-df-convert:hover {\n",
              "      background-color: #E2EBFA;\n",
              "      box-shadow: 0px 1px 2px rgba(60, 64, 67, 0.3), 0px 1px 3px 1px rgba(60, 64, 67, 0.15);\n",
              "      fill: #174EA6;\n",
              "    }\n",
              "\n",
              "    [theme=dark] .colab-df-convert {\n",
              "      background-color: #3B4455;\n",
              "      fill: #D2E3FC;\n",
              "    }\n",
              "\n",
              "    [theme=dark] .colab-df-convert:hover {\n",
              "      background-color: #434B5C;\n",
              "      box-shadow: 0px 1px 3px 1px rgba(0, 0, 0, 0.15);\n",
              "      filter: drop-shadow(0px 1px 2px rgba(0, 0, 0, 0.3));\n",
              "      fill: #FFFFFF;\n",
              "    }\n",
              "  </style>\n",
              "\n",
              "      <script>\n",
              "        const buttonEl =\n",
              "          document.querySelector('#df-7c19f98f-d77a-42d1-814c-f353719bd0bf button.colab-df-convert');\n",
              "        buttonEl.style.display =\n",
              "          google.colab.kernel.accessAllowed ? 'block' : 'none';\n",
              "\n",
              "        async function convertToInteractive(key) {\n",
              "          const element = document.querySelector('#df-7c19f98f-d77a-42d1-814c-f353719bd0bf');\n",
              "          const dataTable =\n",
              "            await google.colab.kernel.invokeFunction('convertToInteractive',\n",
              "                                                     [key], {});\n",
              "          if (!dataTable) return;\n",
              "\n",
              "          const docLinkHtml = 'Like what you see? Visit the ' +\n",
              "            '<a target=\"_blank\" href=https://colab.research.google.com/notebooks/data_table.ipynb>data table notebook</a>'\n",
              "            + ' to learn more about interactive tables.';\n",
              "          element.innerHTML = '';\n",
              "          dataTable['output_type'] = 'display_data';\n",
              "          await google.colab.output.renderOutput(dataTable, element);\n",
              "          const docLink = document.createElement('div');\n",
              "          docLink.innerHTML = docLinkHtml;\n",
              "          element.appendChild(docLink);\n",
              "        }\n",
              "      </script>\n",
              "    </div>\n",
              "  </div>\n",
              "  "
            ]
          },
          "metadata": {},
          "execution_count": 90
        }
      ]
    },
    {
      "cell_type": "code",
      "source": [
        "#¿A qué puertos origen se comunica la IP del inciso b?\n",
        "df[df['dst']==dest_ip][['dst','sport']]"
      ],
      "metadata": {
        "colab": {
          "base_uri": "https://localhost:8080/",
          "height": 1000
        },
        "id": "zOhDWk6aWmhw",
        "outputId": "1b62927d-20ad-44ae-c18c-849b9200615a"
      },
      "execution_count": 92,
      "outputs": [
        {
          "output_type": "execute_result",
          "data": {
            "text/plain": [
              "           dst sport\n",
              "11  10.1.10.53    53\n",
              "13  10.1.10.53    53\n",
              "15  10.1.10.53    53\n",
              "17  10.1.10.53    53\n",
              "19  10.1.10.53    53\n",
              "21  10.1.10.53    53\n",
              "23  10.1.10.53    53\n",
              "25  10.1.10.53    53\n",
              "27  10.1.10.53    53\n",
              "29  10.1.10.53    53\n",
              "31  10.1.10.53    53\n",
              "34  10.1.10.53    53\n",
              "35  10.1.10.53    53\n",
              "37  10.1.10.53    53\n",
              "39  10.1.10.53    53\n",
              "41  10.1.10.53    53\n",
              "43  10.1.10.53    53\n",
              "45  10.1.10.53    53\n",
              "47  10.1.10.53    53\n",
              "49  10.1.10.53    53\n",
              "51  10.1.10.53    53\n",
              "53  10.1.10.53    53\n",
              "55  10.1.10.53    53\n",
              "57  10.1.10.53    53\n",
              "59  10.1.10.53    53\n",
              "61  10.1.10.53    53\n",
              "63  10.1.10.53    53\n",
              "65  10.1.10.53    53\n",
              "67  10.1.10.53    53\n",
              "69  10.1.10.53    53\n",
              "71  10.1.10.53    53"
            ],
            "text/html": [
              "\n",
              "  <div id=\"df-6e6c4c37-7164-4b8f-9255-1043982af5c2\">\n",
              "    <div class=\"colab-df-container\">\n",
              "      <div>\n",
              "<style scoped>\n",
              "    .dataframe tbody tr th:only-of-type {\n",
              "        vertical-align: middle;\n",
              "    }\n",
              "\n",
              "    .dataframe tbody tr th {\n",
              "        vertical-align: top;\n",
              "    }\n",
              "\n",
              "    .dataframe thead th {\n",
              "        text-align: right;\n",
              "    }\n",
              "</style>\n",
              "<table border=\"1\" class=\"dataframe\">\n",
              "  <thead>\n",
              "    <tr style=\"text-align: right;\">\n",
              "      <th></th>\n",
              "      <th>dst</th>\n",
              "      <th>sport</th>\n",
              "    </tr>\n",
              "  </thead>\n",
              "  <tbody>\n",
              "    <tr>\n",
              "      <th>11</th>\n",
              "      <td>10.1.10.53</td>\n",
              "      <td>53</td>\n",
              "    </tr>\n",
              "    <tr>\n",
              "      <th>13</th>\n",
              "      <td>10.1.10.53</td>\n",
              "      <td>53</td>\n",
              "    </tr>\n",
              "    <tr>\n",
              "      <th>15</th>\n",
              "      <td>10.1.10.53</td>\n",
              "      <td>53</td>\n",
              "    </tr>\n",
              "    <tr>\n",
              "      <th>17</th>\n",
              "      <td>10.1.10.53</td>\n",
              "      <td>53</td>\n",
              "    </tr>\n",
              "    <tr>\n",
              "      <th>19</th>\n",
              "      <td>10.1.10.53</td>\n",
              "      <td>53</td>\n",
              "    </tr>\n",
              "    <tr>\n",
              "      <th>21</th>\n",
              "      <td>10.1.10.53</td>\n",
              "      <td>53</td>\n",
              "    </tr>\n",
              "    <tr>\n",
              "      <th>23</th>\n",
              "      <td>10.1.10.53</td>\n",
              "      <td>53</td>\n",
              "    </tr>\n",
              "    <tr>\n",
              "      <th>25</th>\n",
              "      <td>10.1.10.53</td>\n",
              "      <td>53</td>\n",
              "    </tr>\n",
              "    <tr>\n",
              "      <th>27</th>\n",
              "      <td>10.1.10.53</td>\n",
              "      <td>53</td>\n",
              "    </tr>\n",
              "    <tr>\n",
              "      <th>29</th>\n",
              "      <td>10.1.10.53</td>\n",
              "      <td>53</td>\n",
              "    </tr>\n",
              "    <tr>\n",
              "      <th>31</th>\n",
              "      <td>10.1.10.53</td>\n",
              "      <td>53</td>\n",
              "    </tr>\n",
              "    <tr>\n",
              "      <th>34</th>\n",
              "      <td>10.1.10.53</td>\n",
              "      <td>53</td>\n",
              "    </tr>\n",
              "    <tr>\n",
              "      <th>35</th>\n",
              "      <td>10.1.10.53</td>\n",
              "      <td>53</td>\n",
              "    </tr>\n",
              "    <tr>\n",
              "      <th>37</th>\n",
              "      <td>10.1.10.53</td>\n",
              "      <td>53</td>\n",
              "    </tr>\n",
              "    <tr>\n",
              "      <th>39</th>\n",
              "      <td>10.1.10.53</td>\n",
              "      <td>53</td>\n",
              "    </tr>\n",
              "    <tr>\n",
              "      <th>41</th>\n",
              "      <td>10.1.10.53</td>\n",
              "      <td>53</td>\n",
              "    </tr>\n",
              "    <tr>\n",
              "      <th>43</th>\n",
              "      <td>10.1.10.53</td>\n",
              "      <td>53</td>\n",
              "    </tr>\n",
              "    <tr>\n",
              "      <th>45</th>\n",
              "      <td>10.1.10.53</td>\n",
              "      <td>53</td>\n",
              "    </tr>\n",
              "    <tr>\n",
              "      <th>47</th>\n",
              "      <td>10.1.10.53</td>\n",
              "      <td>53</td>\n",
              "    </tr>\n",
              "    <tr>\n",
              "      <th>49</th>\n",
              "      <td>10.1.10.53</td>\n",
              "      <td>53</td>\n",
              "    </tr>\n",
              "    <tr>\n",
              "      <th>51</th>\n",
              "      <td>10.1.10.53</td>\n",
              "      <td>53</td>\n",
              "    </tr>\n",
              "    <tr>\n",
              "      <th>53</th>\n",
              "      <td>10.1.10.53</td>\n",
              "      <td>53</td>\n",
              "    </tr>\n",
              "    <tr>\n",
              "      <th>55</th>\n",
              "      <td>10.1.10.53</td>\n",
              "      <td>53</td>\n",
              "    </tr>\n",
              "    <tr>\n",
              "      <th>57</th>\n",
              "      <td>10.1.10.53</td>\n",
              "      <td>53</td>\n",
              "    </tr>\n",
              "    <tr>\n",
              "      <th>59</th>\n",
              "      <td>10.1.10.53</td>\n",
              "      <td>53</td>\n",
              "    </tr>\n",
              "    <tr>\n",
              "      <th>61</th>\n",
              "      <td>10.1.10.53</td>\n",
              "      <td>53</td>\n",
              "    </tr>\n",
              "    <tr>\n",
              "      <th>63</th>\n",
              "      <td>10.1.10.53</td>\n",
              "      <td>53</td>\n",
              "    </tr>\n",
              "    <tr>\n",
              "      <th>65</th>\n",
              "      <td>10.1.10.53</td>\n",
              "      <td>53</td>\n",
              "    </tr>\n",
              "    <tr>\n",
              "      <th>67</th>\n",
              "      <td>10.1.10.53</td>\n",
              "      <td>53</td>\n",
              "    </tr>\n",
              "    <tr>\n",
              "      <th>69</th>\n",
              "      <td>10.1.10.53</td>\n",
              "      <td>53</td>\n",
              "    </tr>\n",
              "    <tr>\n",
              "      <th>71</th>\n",
              "      <td>10.1.10.53</td>\n",
              "      <td>53</td>\n",
              "    </tr>\n",
              "  </tbody>\n",
              "</table>\n",
              "</div>\n",
              "      <button class=\"colab-df-convert\" onclick=\"convertToInteractive('df-6e6c4c37-7164-4b8f-9255-1043982af5c2')\"\n",
              "              title=\"Convert this dataframe to an interactive table.\"\n",
              "              style=\"display:none;\">\n",
              "        \n",
              "  <svg xmlns=\"http://www.w3.org/2000/svg\" height=\"24px\"viewBox=\"0 0 24 24\"\n",
              "       width=\"24px\">\n",
              "    <path d=\"M0 0h24v24H0V0z\" fill=\"none\"/>\n",
              "    <path d=\"M18.56 5.44l.94 2.06.94-2.06 2.06-.94-2.06-.94-.94-2.06-.94 2.06-2.06.94zm-11 1L8.5 8.5l.94-2.06 2.06-.94-2.06-.94L8.5 2.5l-.94 2.06-2.06.94zm10 10l.94 2.06.94-2.06 2.06-.94-2.06-.94-.94-2.06-.94 2.06-2.06.94z\"/><path d=\"M17.41 7.96l-1.37-1.37c-.4-.4-.92-.59-1.43-.59-.52 0-1.04.2-1.43.59L10.3 9.45l-7.72 7.72c-.78.78-.78 2.05 0 2.83L4 21.41c.39.39.9.59 1.41.59.51 0 1.02-.2 1.41-.59l7.78-7.78 2.81-2.81c.8-.78.8-2.07 0-2.86zM5.41 20L4 18.59l7.72-7.72 1.47 1.35L5.41 20z\"/>\n",
              "  </svg>\n",
              "      </button>\n",
              "      \n",
              "  <style>\n",
              "    .colab-df-container {\n",
              "      display:flex;\n",
              "      flex-wrap:wrap;\n",
              "      gap: 12px;\n",
              "    }\n",
              "\n",
              "    .colab-df-convert {\n",
              "      background-color: #E8F0FE;\n",
              "      border: none;\n",
              "      border-radius: 50%;\n",
              "      cursor: pointer;\n",
              "      display: none;\n",
              "      fill: #1967D2;\n",
              "      height: 32px;\n",
              "      padding: 0 0 0 0;\n",
              "      width: 32px;\n",
              "    }\n",
              "\n",
              "    .colab-df-convert:hover {\n",
              "      background-color: #E2EBFA;\n",
              "      box-shadow: 0px 1px 2px rgba(60, 64, 67, 0.3), 0px 1px 3px 1px rgba(60, 64, 67, 0.15);\n",
              "      fill: #174EA6;\n",
              "    }\n",
              "\n",
              "    [theme=dark] .colab-df-convert {\n",
              "      background-color: #3B4455;\n",
              "      fill: #D2E3FC;\n",
              "    }\n",
              "\n",
              "    [theme=dark] .colab-df-convert:hover {\n",
              "      background-color: #434B5C;\n",
              "      box-shadow: 0px 1px 3px 1px rgba(0, 0, 0, 0.15);\n",
              "      filter: drop-shadow(0px 1px 2px rgba(0, 0, 0, 0.3));\n",
              "      fill: #FFFFFF;\n",
              "    }\n",
              "  </style>\n",
              "\n",
              "      <script>\n",
              "        const buttonEl =\n",
              "          document.querySelector('#df-6e6c4c37-7164-4b8f-9255-1043982af5c2 button.colab-df-convert');\n",
              "        buttonEl.style.display =\n",
              "          google.colab.kernel.accessAllowed ? 'block' : 'none';\n",
              "\n",
              "        async function convertToInteractive(key) {\n",
              "          const element = document.querySelector('#df-6e6c4c37-7164-4b8f-9255-1043982af5c2');\n",
              "          const dataTable =\n",
              "            await google.colab.kernel.invokeFunction('convertToInteractive',\n",
              "                                                     [key], {});\n",
              "          if (!dataTable) return;\n",
              "\n",
              "          const docLinkHtml = 'Like what you see? Visit the ' +\n",
              "            '<a target=\"_blank\" href=https://colab.research.google.com/notebooks/data_table.ipynb>data table notebook</a>'\n",
              "            + ' to learn more about interactive tables.';\n",
              "          element.innerHTML = '';\n",
              "          dataTable['output_type'] = 'display_data';\n",
              "          await google.colab.output.renderOutput(dataTable, element);\n",
              "          const docLink = document.createElement('div');\n",
              "          docLink.innerHTML = docLinkHtml;\n",
              "          element.appendChild(docLink);\n",
              "        }\n",
              "      </script>\n",
              "    </div>\n",
              "  </div>\n",
              "  "
            ]
          },
          "metadata": {},
          "execution_count": 92
        }
      ]
    },
    {
      "cell_type": "code",
      "source": [],
      "metadata": {
        "id": "sj_b1J60XzEV"
      },
      "execution_count": null,
      "outputs": []
    }
  ],
  "metadata": {
    "kernelspec": {
      "display_name": "Python 3",
      "language": "python",
      "name": "python3"
    },
    "language_info": {
      "codemirror_mode": {
        "name": "ipython",
        "version": 3
      },
      "file_extension": ".py",
      "mimetype": "text/x-python",
      "name": "python",
      "nbconvert_exporter": "python",
      "pygments_lexer": "ipython3",
      "version": "3.8.0"
    },
    "orig_nbformat": 4,
    "colab": {
      "provenance": []
    }
  },
  "nbformat": 4,
  "nbformat_minor": 0
}
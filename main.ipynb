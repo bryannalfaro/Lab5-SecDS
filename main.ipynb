{
  "cells": [
    {
      "cell_type": "markdown",
      "metadata": {
        "id": "lRyA_emfNVRC"
      },
      "source": [
        "Integrantes  \n",
        "Bryann Alfaro  \n",
        "Raul Jimenez  \n",
        "Donaldo Garcia"
      ]
    },
    {
      "cell_type": "code",
      "execution_count": 2,
      "metadata": {
        "colab": {
          "base_uri": "https://localhost:8080/"
        },
        "id": "tpwLA5afNVRK",
        "outputId": "0ead39bf-9459-46e9-8b26-50995579e0ee"
      },
      "outputs": [
        {
          "output_type": "stream",
          "name": "stdout",
          "text": [
            "Looking in indexes: https://pypi.org/simple, https://us-python.pkg.dev/colab-wheels/public/simple/\n",
            "Collecting scapy\n",
            "  Downloading scapy-2.5.0.tar.gz (1.3 MB)\n",
            "\u001b[2K     \u001b[90m━━━━━━━━━━━━━━━━━━━━━━━━━━━━━━━━━━━━━━━━\u001b[0m \u001b[32m1.3/1.3 MB\u001b[0m \u001b[31m15.4 MB/s\u001b[0m eta \u001b[36m0:00:00\u001b[0m\n",
            "\u001b[?25h  Preparing metadata (setup.py) ... \u001b[?25l\u001b[?25hdone\n",
            "Building wheels for collected packages: scapy\n",
            "  Building wheel for scapy (setup.py) ... \u001b[?25l\u001b[?25hdone\n",
            "  Created wheel for scapy: filename=scapy-2.5.0-py2.py3-none-any.whl size=1444345 sha256=cd5fc7d1acf77b1061c0280b06bcf4191e175ef891136e32b6a12746dbca65c1\n",
            "  Stored in directory: /root/.cache/pip/wheels/dd/1b/47/d46b1a87e339be501612cf4cd1bf57742e534f9c9aac7b00d6\n",
            "Successfully built scapy\n",
            "Installing collected packages: scapy\n",
            "Successfully installed scapy-2.5.0\n"
          ]
        }
      ],
      "source": [
        "pip install scapy"
      ]
    },
    {
      "cell_type": "markdown",
      "metadata": {
        "id": "jtHAa3Z2NVRQ"
      },
      "source": [
        "## Parte 1 - Analisis de paquetes"
      ]
    },
    {
      "cell_type": "markdown",
      "metadata": {
        "id": "Yk8LUcJeNVRS"
      },
      "source": [
        " Analisis estadistico"
      ]
    },
    {
      "cell_type": "code",
      "execution_count": 3,
      "metadata": {
        "id": "ikj1PGjfNVRU"
      },
      "outputs": [],
      "source": [
        "from scapy.all import * # Packet manipulation\n",
        "import pandas as pd # Pandas - Create and Manipulate DataFrames\n",
        "import numpy as np # Math Stuff (don't worry only used for one line :] )\n",
        "import binascii # Binary to Ascii \n",
        "import seaborn as sns\n",
        "sns.set(color_codes=True)\n",
        "%matplotlib inline"
      ]
    },
    {
      "cell_type": "markdown",
      "source": [
        "REFERENCIA: JUPYTER BRINDADO EN CLASE"
      ],
      "metadata": {
        "id": "4UAk0Sl_PQiO"
      }
    },
    {
      "cell_type": "markdown",
      "source": [
        "Capture 10 paquetes con la herramienta scapy, imprima el tipo de datos, la longitud y el\n",
        "contenido del pcap"
      ],
      "metadata": {
        "id": "HJoyr5DuPPhW"
      }
    },
    {
      "cell_type": "code",
      "execution_count": 18,
      "metadata": {
        "id": "9yd54BFDNVRV"
      },
      "outputs": [],
      "source": [
        "pcap = sniff(count=10) #captura de 10 paquetes"
      ]
    },
    {
      "cell_type": "code",
      "source": [
        "#Impresion de tipo de dato, longitud y contenido\n",
        "print(type(pcap))\n",
        "print(len(pcap))\n",
        "for i in range(len(pcap)):\n",
        "  print(pcap[i])\n",
        "pcap[0]"
      ],
      "metadata": {
        "colab": {
          "base_uri": "https://localhost:8080/"
        },
        "id": "Kcnt_pwBNh53",
        "outputId": "71a3710e-d3b7-4ae2-a32b-51e8a22db70c"
      },
      "execution_count": 19,
      "outputs": [
        {
          "output_type": "stream",
          "name": "stdout",
          "text": [
            "<class 'scapy.plist.PacketList'>\n",
            "10\n",
            "Ether / IP / TCP 172.28.0.12:8080 > 172.28.0.1:56898 PA / Raw\n",
            "Ether / IP / TCP 172.28.0.1:56898 > 172.28.0.12:8080 A\n",
            "Ether / IP / TCP 172.28.0.1:56898 > 172.28.0.12:8080 PA / Raw\n",
            "Ether / IP / TCP 172.28.0.12:8080 > 172.28.0.1:56898 A\n",
            "Ether / IP / TCP 172.28.0.12:8080 > 172.28.0.1:56898 PA / Raw\n",
            "Ether / IP / TCP 172.28.0.1:56898 > 172.28.0.12:8080 A\n",
            "Ether / IP / TCP 172.28.0.1:56898 > 172.28.0.12:8080 PA / Raw\n",
            "Ether / IP / TCP 172.28.0.1:56898 > 172.28.0.12:8080 PA / Raw\n",
            "Ether / IP / TCP 172.28.0.12:8080 > 172.28.0.1:56898 A\n",
            "Ether / IP / TCP 172.28.0.12:8080 > 172.28.0.1:56898 PA / Raw\n"
          ]
        },
        {
          "output_type": "execute_result",
          "data": {
            "text/plain": [
              "<Ether  dst=02:42:3a:e4:6d:ac src=02:42:ac:1c:00:0c type=IPv4 |<IP  version=4 ihl=5 tos=0x0 len=1000 id=21330 flags=DF frag=0 ttl=64 proto=6 chksum=0x8b78 src=172.28.0.12 dst=172.28.0.1 |<TCP  sport=8080 dport=56898 seq=942073249 ack=375769217 dataofs=8 reserved=0 flags=PA window=501 chksum=0x5c20 urgptr=0 options=[('NOP', None), ('NOP', None), ('Timestamp', (2734976252, 119251873))] |<Raw  load='HTTP/1.1 200 OK\\r\\nContent-Type: text/plain; charset=UTF-8\\r\\nContent-Length: 719\\r\\nAccess-Control-Allow-Origin: *\\r\\nSet-Cookie: io=J2RYYCsIYANgf_FJAAAA; Path=/; HttpOnly\\r\\nDate: Sat, 08 Apr 2023 20:18:01 GMT\\r\\nConnection: keep-alive\\r\\n\\r\\n715:42/session,[\"data\",{\"data\":\"{\\\\\"header\\\\\": {\\\\\"msg_id\\\\\": \\\\\"9a498ad8-0d5b94906e7082387bf0d1d5_326\\\\\", \\\\\"msg_type\\\\\": \\\\\"status\\\\\", \\\\\"username\\\\\": \\\\\"username\\\\\", \\\\\"session\\\\\": \\\\\"9a498ad8-0d5b94906e7082387bf0d1d5\\\\\", \\\\\"date\\\\\": \\\\\"2023-04-08T20:18:01.747041Z\\\\\", \\\\\"version\\\\\": \\\\\"5.3\\\\\"}, \\\\\"msg_id\\\\\": \\\\\"9a498ad8-0d5b94906e7082387bf0d1d5_326\\\\\", \\\\\"msg_type\\\\\": \\\\\"status\\\\\", \\\\\"parent_header\\\\\": {\\\\\"msg_id\\\\\": \\\\\"41059c92-d42a-4d88-e375-d7c6cdd37445\\\\\", \\\\\"username\\\\\": \\\\\"username\\\\\", \\\\\"session\\\\\": \\\\\"744d244b-bb13-417d-f78c-244e7ece6301\\\\\", \\\\\"msg_type\\\\\": \\\\\"execute_request\\\\\", \\\\\"version\\\\\": \\\\\"5.0\\\\\", \\\\\"date\\\\\": \\\\\"2023-04-08T20:18:01.746807Z\\\\\"}, \\\\\"metadata\\\\\": {}, \\\\\"content\\\\\": {\\\\\"execution_state\\\\\": \\\\\"busy\\\\\"}, \\\\\"buffers\\\\\": [], \\\\\"channel\\\\\": \\\\\"iopub\\\\\"}\"}]' |>>>>"
            ]
          },
          "metadata": {},
          "execution_count": 19
        }
      ]
    },
    {
      "cell_type": "markdown",
      "source": [
        "Para conocer un poco mas se puede hacer la exploracion"
      ],
      "metadata": {
        "id": "-Gz2kRAZPHIc"
      }
    },
    {
      "cell_type": "code",
      "source": [
        "ethernet_frame = pcap[0]\n",
        "ip_packet = ethernet_frame.payload\n",
        "segment = ip_packet.payload\n",
        "data = segment.payload #recupera la informacion de la capa 4\n",
        "\n",
        "print(\"Informacion del frame:\")\n",
        "print(ethernet_frame.summary())\n",
        "\n",
        "print(\"Informacion del paquete:\")\n",
        "print(ip_packet.summary())\n",
        "\n",
        "print(\"Informacion del segmento:\")\n",
        "print(segment.summary())\n",
        "\n",
        "print(\"Data:\")\n",
        "print(data.summary())\n",
        "\n",
        "ethernet_frame.show()\n",
        "data.show()"
      ],
      "metadata": {
        "colab": {
          "base_uri": "https://localhost:8080/"
        },
        "id": "jtpGP8aXNldM",
        "outputId": "636f09c3-2918-4356-d376-d166a1dfb73a"
      },
      "execution_count": 20,
      "outputs": [
        {
          "output_type": "stream",
          "name": "stdout",
          "text": [
            "Informacion del frame:\n",
            "Ether / IP / TCP 172.28.0.12:8080 > 172.28.0.1:56898 PA / Raw\n",
            "Informacion del paquete:\n",
            "IP / TCP 172.28.0.12:8080 > 172.28.0.1:56898 PA / Raw\n",
            "Informacion del segmento:\n",
            "TCP 172.28.0.12:8080 > 172.28.0.1:56898 PA / Raw\n",
            "Data:\n",
            "Raw\n",
            "###[ Ethernet ]### \n",
            "  dst       = 02:42:3a:e4:6d:ac\n",
            "  src       = 02:42:ac:1c:00:0c\n",
            "  type      = IPv4\n",
            "###[ IP ]### \n",
            "     version   = 4\n",
            "     ihl       = 5\n",
            "     tos       = 0x0\n",
            "     len       = 1000\n",
            "     id        = 21330\n",
            "     flags     = DF\n",
            "     frag      = 0\n",
            "     ttl       = 64\n",
            "     proto     = 6\n",
            "     chksum    = 0x8b78\n",
            "     src       = 172.28.0.12\n",
            "     dst       = 172.28.0.1\n",
            "     \\options   \\\n",
            "###[ TCP ]### \n",
            "        sport     = 8080\n",
            "        dport     = 56898\n",
            "        seq       = 942073249\n",
            "        ack       = 375769217\n",
            "        dataofs   = 8\n",
            "        reserved  = 0\n",
            "        flags     = PA\n",
            "        window    = 501\n",
            "        chksum    = 0x5c20\n",
            "        urgptr    = 0\n",
            "        options   = [('NOP', None), ('NOP', None), ('Timestamp', (2734976252, 119251873))]\n",
            "###[ Raw ]### \n",
            "           load      = 'HTTP/1.1 200 OK\\r\\nContent-Type: text/plain; charset=UTF-8\\r\\nContent-Length: 719\\r\\nAccess-Control-Allow-Origin: *\\r\\nSet-Cookie: io=J2RYYCsIYANgf_FJAAAA; Path=/; HttpOnly\\r\\nDate: Sat, 08 Apr 2023 20:18:01 GMT\\r\\nConnection: keep-alive\\r\\n\\r\\n715:42/session,[\"data\",{\"data\":\"{\\\\\"header\\\\\": {\\\\\"msg_id\\\\\": \\\\\"9a498ad8-0d5b94906e7082387bf0d1d5_326\\\\\", \\\\\"msg_type\\\\\": \\\\\"status\\\\\", \\\\\"username\\\\\": \\\\\"username\\\\\", \\\\\"session\\\\\": \\\\\"9a498ad8-0d5b94906e7082387bf0d1d5\\\\\", \\\\\"date\\\\\": \\\\\"2023-04-08T20:18:01.747041Z\\\\\", \\\\\"version\\\\\": \\\\\"5.3\\\\\"}, \\\\\"msg_id\\\\\": \\\\\"9a498ad8-0d5b94906e7082387bf0d1d5_326\\\\\", \\\\\"msg_type\\\\\": \\\\\"status\\\\\", \\\\\"parent_header\\\\\": {\\\\\"msg_id\\\\\": \\\\\"41059c92-d42a-4d88-e375-d7c6cdd37445\\\\\", \\\\\"username\\\\\": \\\\\"username\\\\\", \\\\\"session\\\\\": \\\\\"744d244b-bb13-417d-f78c-244e7ece6301\\\\\", \\\\\"msg_type\\\\\": \\\\\"execute_request\\\\\", \\\\\"version\\\\\": \\\\\"5.0\\\\\", \\\\\"date\\\\\": \\\\\"2023-04-08T20:18:01.746807Z\\\\\"}, \\\\\"metadata\\\\\": {}, \\\\\"content\\\\\": {\\\\\"execution_state\\\\\": \\\\\"busy\\\\\"}, \\\\\"buffers\\\\\": [], \\\\\"channel\\\\\": \\\\\"iopub\\\\\"}\"}]'\n",
            "\n",
            "###[ Raw ]### \n",
            "  load      = 'HTTP/1.1 200 OK\\r\\nContent-Type: text/plain; charset=UTF-8\\r\\nContent-Length: 719\\r\\nAccess-Control-Allow-Origin: *\\r\\nSet-Cookie: io=J2RYYCsIYANgf_FJAAAA; Path=/; HttpOnly\\r\\nDate: Sat, 08 Apr 2023 20:18:01 GMT\\r\\nConnection: keep-alive\\r\\n\\r\\n715:42/session,[\"data\",{\"data\":\"{\\\\\"header\\\\\": {\\\\\"msg_id\\\\\": \\\\\"9a498ad8-0d5b94906e7082387bf0d1d5_326\\\\\", \\\\\"msg_type\\\\\": \\\\\"status\\\\\", \\\\\"username\\\\\": \\\\\"username\\\\\", \\\\\"session\\\\\": \\\\\"9a498ad8-0d5b94906e7082387bf0d1d5\\\\\", \\\\\"date\\\\\": \\\\\"2023-04-08T20:18:01.747041Z\\\\\", \\\\\"version\\\\\": \\\\\"5.3\\\\\"}, \\\\\"msg_id\\\\\": \\\\\"9a498ad8-0d5b94906e7082387bf0d1d5_326\\\\\", \\\\\"msg_type\\\\\": \\\\\"status\\\\\", \\\\\"parent_header\\\\\": {\\\\\"msg_id\\\\\": \\\\\"41059c92-d42a-4d88-e375-d7c6cdd37445\\\\\", \\\\\"username\\\\\": \\\\\"username\\\\\", \\\\\"session\\\\\": \\\\\"744d244b-bb13-417d-f78c-244e7ece6301\\\\\", \\\\\"msg_type\\\\\": \\\\\"execute_request\\\\\", \\\\\"version\\\\\": \\\\\"5.0\\\\\", \\\\\"date\\\\\": \\\\\"2023-04-08T20:18:01.746807Z\\\\\"}, \\\\\"metadata\\\\\": {}, \\\\\"content\\\\\": {\\\\\"execution_state\\\\\": \\\\\"busy\\\\\"}, \\\\\"buffers\\\\\": [], \\\\\"channel\\\\\": \\\\\"iopub\\\\\"}\"}]'\n",
            "\n"
          ]
        }
      ]
    },
    {
      "cell_type": "code",
      "source": [
        "pcap2 = rdpcap('/analisis_paquetes.pcap')"
      ],
      "metadata": {
        "id": "gvggC27EPJw1"
      },
      "execution_count": 21,
      "outputs": []
    },
    {
      "cell_type": "code",
      "source": [
        "print(len(pcap2))"
      ],
      "metadata": {
        "colab": {
          "base_uri": "https://localhost:8080/"
        },
        "id": "avYIrt2HQZtq",
        "outputId": "cb03fcd1-dc82-4cf7-e17e-820587b6225e"
      },
      "execution_count": 22,
      "outputs": [
        {
          "output_type": "stream",
          "name": "stdout",
          "text": [
            "62\n"
          ]
        }
      ]
    },
    {
      "cell_type": "code",
      "source": [
        "print(len(pcap))"
      ],
      "metadata": {
        "colab": {
          "base_uri": "https://localhost:8080/"
        },
        "id": "HDVHyAXthQJw",
        "outputId": "49c1d817-107b-44b8-bfa8-8d97de5a9d47"
      },
      "execution_count": 23,
      "outputs": [
        {
          "output_type": "stream",
          "name": "stdout",
          "text": [
            "10\n"
          ]
        }
      ]
    },
    {
      "cell_type": "markdown",
      "source": [
        "Convierta el pcap a un DataFrame  \n",
        "Se saca el DF de ambos pcap y luego se unen "
      ],
      "metadata": {
        "id": "pubDbG5kQ2U-"
      }
    },
    {
      "cell_type": "code",
      "source": [
        "# Obtenemos los campos de IP/TCP/UDP que seran las columnas de nuestro DF\n",
        "ip_fields = [field.name for field in IP().fields_desc]\n",
        "tcp_fields = [field.name for field in TCP().fields_desc]\n",
        "udp_fields = [field.name for field in UDP().fields_desc]\n",
        "\n",
        "#Concatenamos todos los campos\n",
        "dataframe_fields = ip_fields + ['time'] + tcp_fields + ['payload','payload_raw','payload_hex']\n",
        "\n",
        "# Creamos un DF en blanco con los campos como columnas\n",
        "df = pd.DataFrame(columns=dataframe_fields)\n",
        "for packet in pcap[IP]:\n",
        "    # Obtenemos los valores de los campos de cada fila\n",
        "    field_values = []\n",
        "    # A;adimos todos los valores de los campos de IP al df\n",
        "    for field in ip_fields:\n",
        "        if field == 'options':\n",
        "            # Obtenemos el numero de opciones del IP Header\n",
        "            field_values.append(len(packet[IP].fields[field]))\n",
        "        else:\n",
        "            field_values.append(packet[IP].fields[field])\n",
        "    \n",
        "    field_values.append(packet.time)\n",
        "    \n",
        "    layer_type = type(packet[IP].payload)\n",
        "    for field in tcp_fields:\n",
        "        try:\n",
        "            if field == 'options':\n",
        "                field_values.append(len(packet[layer_type].fields[field]))\n",
        "            else:\n",
        "                field_values.append(packet[layer_type].fields[field])\n",
        "        except:\n",
        "            field_values.append(None)\n",
        "    \n",
        "    # Agregamos el payload\n",
        "    field_values.append(len(packet[layer_type].payload))\n",
        "    field_values.append(packet[layer_type].payload.original)\n",
        "    field_values.append(binascii.hexlify(packet[layer_type].payload.original))\n",
        "    # Agregamos la fila al df\n",
        "    df_append = pd.DataFrame([field_values], columns=dataframe_fields)\n",
        "    df = pd.concat([df, df_append], axis=0)\n",
        "\n",
        "# Reset Index\n",
        "df = df.reset_index()\n",
        "# Drop old index column\n",
        "df = df.drop(columns=\"index\")\n",
        "\n",
        "print(df.head(5))"
      ],
      "metadata": {
        "colab": {
          "base_uri": "https://localhost:8080/"
        },
        "id": "99r46eAmg5HN",
        "outputId": "89a37c0d-66d7-43eb-bbbc-0bab49e585fc"
      },
      "execution_count": 24,
      "outputs": [
        {
          "output_type": "stream",
          "name": "stdout",
          "text": [
            "  version ihl tos   len     id flags frag ttl proto chksum  ... dataofs  \\\n",
            "0       4   5   0  1000  21330    DF    0  64     6  35704  ...       8   \n",
            "1       4   5   0    52  10535    DF    0  64     6  47447  ...       8   \n",
            "2       4   5   0   545  10536    DF    0  64     6  46953  ...       8   \n",
            "3       4   5   0    52  21331    DF    0  64     6  36651  ...       8   \n",
            "4       4   5   0  1070  21332    DF    0  64     6  35632  ...       8   \n",
            "\n",
            "  reserved flags  window chksum urgptr options payload  \\\n",
            "0        0    PA     501  23584      0       3     948   \n",
            "1        0     A     501  22636      0       3       0   \n",
            "2        0    PA     501  23129      0       3     493   \n",
            "3        0     A     501  22636      0       3       0   \n",
            "4        0    PA     501  23654      0       3    1018   \n",
            "\n",
            "                                         payload_raw  \\\n",
            "0  b'HTTP/1.1 200 OK\\r\\nContent-Type: text/plain;...   \n",
            "1                                                b''   \n",
            "2  b'GET /socket.io/?EIO=3&sid=J2RYYCsIYANgf_FJAA...   \n",
            "3                                                b''   \n",
            "4  b'HTTP/1.1 200 OK\\r\\nContent-Type: text/plain;...   \n",
            "\n",
            "                                         payload_hex  \n",
            "0  b'485454502f312e3120323030204f4b0d0a436f6e7465...  \n",
            "1                                                b''  \n",
            "2  b'474554202f736f636b65742e696f2f3f45494f3d3326...  \n",
            "3                                                b''  \n",
            "4  b'485454502f312e3120323030204f4b0d0a436f6e7465...  \n",
            "\n",
            "[5 rows x 28 columns]\n"
          ]
        }
      ]
    },
    {
      "cell_type": "code",
      "source": [
        "# Obtenemos los campos de IP/TCP/UDP que seran las columnas de nuestro DF\n",
        "ip_fields = [field.name for field in IP().fields_desc]\n",
        "tcp_fields = [field.name for field in TCP().fields_desc]\n",
        "udp_fields = [field.name for field in UDP().fields_desc]\n",
        "\n",
        "#Concatenamos todos los campos\n",
        "dataframe_fields = ip_fields + ['time'] + tcp_fields + ['payload','payload_raw','payload_hex']\n",
        "\n",
        "# Creamos un DF en blanco con los campos como columnas\n",
        "df2 = pd.DataFrame(columns=dataframe_fields)\n",
        "for packet in pcap2[IP]:\n",
        "    # Obtenemos los valores de los campos de cada fila\n",
        "    field_values = []\n",
        "    # A;adimos todos los valores de los campos de IP al df\n",
        "    for field in ip_fields:\n",
        "        if field == 'options':\n",
        "            # Obtenemos el numero de opciones del IP Header\n",
        "            field_values.append(len(packet[IP].fields[field]))\n",
        "        else:\n",
        "            field_values.append(packet[IP].fields[field])\n",
        "    \n",
        "    field_values.append(packet.time)\n",
        "    \n",
        "    layer_type = type(packet[IP].payload)\n",
        "    for field in tcp_fields:\n",
        "        try:\n",
        "            if field == 'options':\n",
        "                field_values.append(len(packet[layer_type].fields[field]))\n",
        "            else:\n",
        "                field_values.append(packet[layer_type].fields[field])\n",
        "        except:\n",
        "            field_values.append(None)\n",
        "    \n",
        "    # Agregamos el payload\n",
        "    field_values.append(len(packet[layer_type].payload))\n",
        "    field_values.append(packet[layer_type].payload.original)\n",
        "    field_values.append(binascii.hexlify(packet[layer_type].payload.original))\n",
        "    # Agregamos la fila al df\n",
        "    df_append = pd.DataFrame([field_values], columns=dataframe_fields)\n",
        "    df2 = pd.concat([df2, df_append], axis=0)\n",
        "\n",
        "# Reset Index\n",
        "df2 = df2.reset_index()\n",
        "# Drop old index column\n",
        "df2 = df2.drop(columns=\"index\")\n",
        "\n",
        "print(df2.head(5))"
      ],
      "metadata": {
        "colab": {
          "base_uri": "https://localhost:8080/"
        },
        "id": "HXWMJlOTQWBZ",
        "outputId": "044dfe6a-1cf6-4d8c-9b7b-2b10d9842e18"
      },
      "execution_count": 25,
      "outputs": [
        {
          "output_type": "stream",
          "name": "stdout",
          "text": [
            "  version ihl tos   len     id flags frag  ttl proto chksum  ... dataofs  \\\n",
            "0       4   5   0   961      1          0   64    17  21222  ...    None   \n",
            "1       4   5  32    84  58919          0  122    17  13836  ...    None   \n",
            "2       4   5   0   975      1          0   64    17  21208  ...    None   \n",
            "3       4   5  32    84  59493          0  122    17  13262  ...    None   \n",
            "4       4   5   0  1012      1          0   64    17  21171  ...    None   \n",
            "\n",
            "  reserved flags window chksum urgptr options payload  \\\n",
            "0     None  None   None  62990   None    None     933   \n",
            "1     None  None   None  65061   None    None      56   \n",
            "2     None  None   None  36378   None    None     947   \n",
            "3     None  None   None  65063   None    None      56   \n",
            "4     None  None   None  63846   None    None     984   \n",
            "\n",
            "                                         payload_raw  \\\n",
            "0  b'\\x00\\x0c\\x01\\x00\\x00\\x01\\x00\\x00\\x00\\x00\\x00...   \n",
            "1  b'\\x00\\x0c\\x81\\x80\\x00\\x01\\x00\\x01\\x00\\x00\\x00...   \n",
            "2  b'\\x00\\x0c\\x01\\x00\\x00\\x01\\x00\\x00\\x00\\x00\\x00...   \n",
            "3  b'\\x00\\x0c\\x81\\x80\\x00\\x01\\x00\\x01\\x00\\x00\\x00...   \n",
            "4  b'\\x00\\x0c\\x01\\x00\\x00\\x01\\x00\\x00\\x00\\x00\\x00...   \n",
            "\n",
            "                                         payload_hex  \n",
            "0  b'000c0100000100000000000006676f6f676c6503636f...  \n",
            "1  b'000c8180000100010000000006676f6f676c6503636f...  \n",
            "2  b'000c0100000100000000000006676f6f676c6503636f...  \n",
            "3  b'000c8180000100010000000006676f6f676c6503636f...  \n",
            "4  b'000c0100000100000000000006676f6f676c6503636f...  \n",
            "\n",
            "[5 rows x 28 columns]\n"
          ]
        }
      ]
    },
    {
      "cell_type": "markdown",
      "source": [
        "Muestre los valores de las columnas: Src Addres, Dst Address, Src Port y Dst Port"
      ],
      "metadata": {
        "id": "vemabHK5RBS6"
      }
    },
    {
      "cell_type": "code",
      "source": [
        "df_new = pd.concat([df,df2])"
      ],
      "metadata": {
        "id": "z30NUr1cgB6B"
      },
      "execution_count": 26,
      "outputs": []
    },
    {
      "cell_type": "code",
      "source": [
        "df_new.columns"
      ],
      "metadata": {
        "colab": {
          "base_uri": "https://localhost:8080/"
        },
        "id": "z8oFEClbQ8xm",
        "outputId": "a9fae1ce-0f97-47b9-d09c-c14f413219bc"
      },
      "execution_count": 27,
      "outputs": [
        {
          "output_type": "execute_result",
          "data": {
            "text/plain": [
              "Index(['version', 'ihl', 'tos', 'len', 'id', 'flags', 'frag', 'ttl', 'proto',\n",
              "       'chksum', 'src', 'dst', 'options', 'time', 'sport', 'dport', 'seq',\n",
              "       'ack', 'dataofs', 'reserved', 'flags', 'window', 'chksum', 'urgptr',\n",
              "       'options', 'payload', 'payload_raw', 'payload_hex'],\n",
              "      dtype='object')"
            ]
          },
          "metadata": {},
          "execution_count": 27
        }
      ]
    },
    {
      "cell_type": "code",
      "source": [
        "df_new.shape"
      ],
      "metadata": {
        "colab": {
          "base_uri": "https://localhost:8080/"
        },
        "id": "3vcKJvcpgYTg",
        "outputId": "d1f78c02-e84d-4077-d12e-e2ecea827767"
      },
      "execution_count": 28,
      "outputs": [
        {
          "output_type": "execute_result",
          "data": {
            "text/plain": [
              "(72, 28)"
            ]
          },
          "metadata": {},
          "execution_count": 28
        }
      ]
    },
    {
      "cell_type": "code",
      "source": [
        "df_new['src']"
      ],
      "metadata": {
        "colab": {
          "base_uri": "https://localhost:8080/"
        },
        "id": "b3IV-x5aRGop",
        "outputId": "bce133a3-909f-44f5-dc3f-89284a81b5ff"
      },
      "execution_count": 29,
      "outputs": [
        {
          "output_type": "execute_result",
          "data": {
            "text/plain": [
              "0     172.28.0.12\n",
              "1      172.28.0.1\n",
              "2      172.28.0.1\n",
              "3     172.28.0.12\n",
              "4     172.28.0.12\n",
              "         ...     \n",
              "57    84.54.22.33\n",
              "58     10.1.10.53\n",
              "59    84.54.22.33\n",
              "60     10.1.10.53\n",
              "61    84.54.22.33\n",
              "Name: src, Length: 72, dtype: object"
            ]
          },
          "metadata": {},
          "execution_count": 29
        }
      ]
    },
    {
      "cell_type": "code",
      "source": [
        "df_new['src'].value_counts()"
      ],
      "metadata": {
        "colab": {
          "base_uri": "https://localhost:8080/"
        },
        "id": "_JQ0zuo5RKvO",
        "outputId": "33937851-5f59-482a-ecd9-3f4f327b4180"
      },
      "execution_count": 30,
      "outputs": [
        {
          "output_type": "execute_result",
          "data": {
            "text/plain": [
              "10.1.10.53     31\n",
              "84.54.22.33    29\n",
              "172.28.0.12     5\n",
              "172.28.0.1      5\n",
              "75.75.75.75     2\n",
              "Name: src, dtype: int64"
            ]
          },
          "metadata": {},
          "execution_count": 30
        }
      ]
    },
    {
      "cell_type": "code",
      "source": [
        "df_new['dst']"
      ],
      "metadata": {
        "colab": {
          "base_uri": "https://localhost:8080/"
        },
        "id": "q_Rrxbm6RdPR",
        "outputId": "a52eb003-95f4-4855-ce3d-691bcf5242cc"
      },
      "execution_count": 31,
      "outputs": [
        {
          "output_type": "execute_result",
          "data": {
            "text/plain": [
              "0      172.28.0.1\n",
              "1     172.28.0.12\n",
              "2     172.28.0.12\n",
              "3      172.28.0.1\n",
              "4      172.28.0.1\n",
              "         ...     \n",
              "57     10.1.10.53\n",
              "58    84.54.22.33\n",
              "59     10.1.10.53\n",
              "60    84.54.22.33\n",
              "61     10.1.10.53\n",
              "Name: dst, Length: 72, dtype: object"
            ]
          },
          "metadata": {},
          "execution_count": 31
        }
      ]
    },
    {
      "cell_type": "code",
      "source": [
        "df_new['dst'].value_counts()"
      ],
      "metadata": {
        "colab": {
          "base_uri": "https://localhost:8080/"
        },
        "id": "tam84YQPRiOD",
        "outputId": "baadb04e-8c90-4ae9-f097-4b612c60b344"
      },
      "execution_count": 32,
      "outputs": [
        {
          "output_type": "execute_result",
          "data": {
            "text/plain": [
              "10.1.10.53     31\n",
              "84.54.22.33    29\n",
              "172.28.0.1      5\n",
              "172.28.0.12     5\n",
              "75.75.75.75     2\n",
              "Name: dst, dtype: int64"
            ]
          },
          "metadata": {},
          "execution_count": 32
        }
      ]
    },
    {
      "cell_type": "code",
      "source": [
        "df_new['sport']"
      ],
      "metadata": {
        "colab": {
          "base_uri": "https://localhost:8080/"
        },
        "id": "M75qObsDRlVd",
        "outputId": "1e9349e3-45ab-46e9-b3be-0dcf277a75f7"
      },
      "execution_count": 33,
      "outputs": [
        {
          "output_type": "execute_result",
          "data": {
            "text/plain": [
              "0      8080\n",
              "1     56898\n",
              "2     56898\n",
              "3      8080\n",
              "4      8080\n",
              "      ...  \n",
              "57       53\n",
              "58       53\n",
              "59       53\n",
              "60       53\n",
              "61       53\n",
              "Name: sport, Length: 72, dtype: object"
            ]
          },
          "metadata": {},
          "execution_count": 33
        }
      ]
    },
    {
      "cell_type": "code",
      "source": [
        "df_new['sport'].value_counts()"
      ],
      "metadata": {
        "colab": {
          "base_uri": "https://localhost:8080/"
        },
        "id": "UGYPTBUMRqL6",
        "outputId": "b0fe75d4-f9da-4bfb-c232-c962eab868b6"
      },
      "execution_count": 34,
      "outputs": [
        {
          "output_type": "execute_result",
          "data": {
            "text/plain": [
              "53       60\n",
              "8080      5\n",
              "56898     5\n",
              "15812     1\n",
              "23903     1\n",
              "Name: sport, dtype: int64"
            ]
          },
          "metadata": {},
          "execution_count": 34
        }
      ]
    },
    {
      "cell_type": "code",
      "source": [
        "df_new['dport']"
      ],
      "metadata": {
        "colab": {
          "base_uri": "https://localhost:8080/"
        },
        "id": "BMwB5EHyRvcu",
        "outputId": "87eb1d50-ed95-4d08-b762-6c46d4bcff4e"
      },
      "execution_count": 35,
      "outputs": [
        {
          "output_type": "execute_result",
          "data": {
            "text/plain": [
              "0     56898\n",
              "1      8080\n",
              "2      8080\n",
              "3     56898\n",
              "4     56898\n",
              "      ...  \n",
              "57       53\n",
              "58       53\n",
              "59       53\n",
              "60       53\n",
              "61       53\n",
              "Name: dport, Length: 72, dtype: object"
            ]
          },
          "metadata": {},
          "execution_count": 35
        }
      ]
    },
    {
      "cell_type": "code",
      "source": [
        "df_new['dport'].value_counts()"
      ],
      "metadata": {
        "colab": {
          "base_uri": "https://localhost:8080/"
        },
        "id": "pMGBQ6QLRxIK",
        "outputId": "7405af18-a1ee-436e-8e97-b884058e8809"
      },
      "execution_count": 36,
      "outputs": [
        {
          "output_type": "execute_result",
          "data": {
            "text/plain": [
              "53       60\n",
              "56898     5\n",
              "8080      5\n",
              "15812     1\n",
              "23903     1\n",
              "Name: dport, dtype: int64"
            ]
          },
          "metadata": {},
          "execution_count": 36
        }
      ]
    },
    {
      "cell_type": "markdown",
      "source": [
        "# Estadísticas"
      ],
      "metadata": {
        "id": "6MSy5_KlR3BO"
      }
    },
    {
      "cell_type": "code",
      "source": [
        "#Muestre cual es la IP origen más frecuente\n",
        "source_ip = df_new['src'].value_counts(ascending=False).index[0]\n",
        "source_ip"
      ],
      "metadata": {
        "colab": {
          "base_uri": "https://localhost:8080/",
          "height": 35
        },
        "id": "gdiAtwD_RzdS",
        "outputId": "e14aed9a-b324-44ea-febf-4612c5e6ee79"
      },
      "execution_count": 40,
      "outputs": [
        {
          "output_type": "execute_result",
          "data": {
            "text/plain": [
              "'10.1.10.53'"
            ],
            "application/vnd.google.colaboratory.intrinsic+json": {
              "type": "string"
            }
          },
          "metadata": {},
          "execution_count": 40
        }
      ]
    },
    {
      "cell_type": "code",
      "source": [
        "#Muestre cual es la IP destino más frecuente\n",
        "dest_ip = df_new['dst'].value_counts(ascending=False).index[0]\n",
        "dest_ip"
      ],
      "metadata": {
        "colab": {
          "base_uri": "https://localhost:8080/",
          "height": 35
        },
        "id": "lGjSorl9SS25",
        "outputId": "b0c35c7a-e0f0-42f1-c559-177d2950f799"
      },
      "execution_count": 41,
      "outputs": [
        {
          "output_type": "execute_result",
          "data": {
            "text/plain": [
              "'10.1.10.53'"
            ],
            "application/vnd.google.colaboratory.intrinsic+json": {
              "type": "string"
            }
          },
          "metadata": {},
          "execution_count": 41
        }
      ]
    },
    {
      "cell_type": "code",
      "source": [
        "#¿A qué IPs se comunica la IP del inciso a?\n",
        "df_new[df_new['src']==source_ip][['src','dst']]"
      ],
      "metadata": {
        "colab": {
          "base_uri": "https://localhost:8080/",
          "height": 1000
        },
        "id": "o0ck8EW9S0jt",
        "outputId": "596db904-6d40-441c-cf08-63ea5b92896a"
      },
      "execution_count": 42,
      "outputs": [
        {
          "output_type": "execute_result",
          "data": {
            "text/plain": [
              "           src          dst\n",
              "0   10.1.10.53  84.54.22.33\n",
              "2   10.1.10.53  84.54.22.33\n",
              "4   10.1.10.53  84.54.22.33\n",
              "6   10.1.10.53  84.54.22.33\n",
              "8   10.1.10.53  84.54.22.33\n",
              "10  10.1.10.53  84.54.22.33\n",
              "12  10.1.10.53  84.54.22.33\n",
              "14  10.1.10.53  84.54.22.33\n",
              "16  10.1.10.53  84.54.22.33\n",
              "18  10.1.10.53  84.54.22.33\n",
              "20  10.1.10.53  84.54.22.33\n",
              "22  10.1.10.53  75.75.75.75\n",
              "23  10.1.10.53  75.75.75.75\n",
              "26  10.1.10.53  84.54.22.33\n",
              "28  10.1.10.53  84.54.22.33\n",
              "30  10.1.10.53  84.54.22.33\n",
              "32  10.1.10.53  84.54.22.33\n",
              "34  10.1.10.53  84.54.22.33\n",
              "36  10.1.10.53  84.54.22.33\n",
              "38  10.1.10.53  84.54.22.33\n",
              "40  10.1.10.53  84.54.22.33\n",
              "42  10.1.10.53  84.54.22.33\n",
              "44  10.1.10.53  84.54.22.33\n",
              "46  10.1.10.53  84.54.22.33\n",
              "48  10.1.10.53  84.54.22.33\n",
              "50  10.1.10.53  84.54.22.33\n",
              "52  10.1.10.53  84.54.22.33\n",
              "54  10.1.10.53  84.54.22.33\n",
              "56  10.1.10.53  84.54.22.33\n",
              "58  10.1.10.53  84.54.22.33\n",
              "60  10.1.10.53  84.54.22.33"
            ],
            "text/html": [
              "\n",
              "  <div id=\"df-5886b265-85ed-4016-a67e-cf89dd8c2a40\">\n",
              "    <div class=\"colab-df-container\">\n",
              "      <div>\n",
              "<style scoped>\n",
              "    .dataframe tbody tr th:only-of-type {\n",
              "        vertical-align: middle;\n",
              "    }\n",
              "\n",
              "    .dataframe tbody tr th {\n",
              "        vertical-align: top;\n",
              "    }\n",
              "\n",
              "    .dataframe thead th {\n",
              "        text-align: right;\n",
              "    }\n",
              "</style>\n",
              "<table border=\"1\" class=\"dataframe\">\n",
              "  <thead>\n",
              "    <tr style=\"text-align: right;\">\n",
              "      <th></th>\n",
              "      <th>src</th>\n",
              "      <th>dst</th>\n",
              "    </tr>\n",
              "  </thead>\n",
              "  <tbody>\n",
              "    <tr>\n",
              "      <th>0</th>\n",
              "      <td>10.1.10.53</td>\n",
              "      <td>84.54.22.33</td>\n",
              "    </tr>\n",
              "    <tr>\n",
              "      <th>2</th>\n",
              "      <td>10.1.10.53</td>\n",
              "      <td>84.54.22.33</td>\n",
              "    </tr>\n",
              "    <tr>\n",
              "      <th>4</th>\n",
              "      <td>10.1.10.53</td>\n",
              "      <td>84.54.22.33</td>\n",
              "    </tr>\n",
              "    <tr>\n",
              "      <th>6</th>\n",
              "      <td>10.1.10.53</td>\n",
              "      <td>84.54.22.33</td>\n",
              "    </tr>\n",
              "    <tr>\n",
              "      <th>8</th>\n",
              "      <td>10.1.10.53</td>\n",
              "      <td>84.54.22.33</td>\n",
              "    </tr>\n",
              "    <tr>\n",
              "      <th>10</th>\n",
              "      <td>10.1.10.53</td>\n",
              "      <td>84.54.22.33</td>\n",
              "    </tr>\n",
              "    <tr>\n",
              "      <th>12</th>\n",
              "      <td>10.1.10.53</td>\n",
              "      <td>84.54.22.33</td>\n",
              "    </tr>\n",
              "    <tr>\n",
              "      <th>14</th>\n",
              "      <td>10.1.10.53</td>\n",
              "      <td>84.54.22.33</td>\n",
              "    </tr>\n",
              "    <tr>\n",
              "      <th>16</th>\n",
              "      <td>10.1.10.53</td>\n",
              "      <td>84.54.22.33</td>\n",
              "    </tr>\n",
              "    <tr>\n",
              "      <th>18</th>\n",
              "      <td>10.1.10.53</td>\n",
              "      <td>84.54.22.33</td>\n",
              "    </tr>\n",
              "    <tr>\n",
              "      <th>20</th>\n",
              "      <td>10.1.10.53</td>\n",
              "      <td>84.54.22.33</td>\n",
              "    </tr>\n",
              "    <tr>\n",
              "      <th>22</th>\n",
              "      <td>10.1.10.53</td>\n",
              "      <td>75.75.75.75</td>\n",
              "    </tr>\n",
              "    <tr>\n",
              "      <th>23</th>\n",
              "      <td>10.1.10.53</td>\n",
              "      <td>75.75.75.75</td>\n",
              "    </tr>\n",
              "    <tr>\n",
              "      <th>26</th>\n",
              "      <td>10.1.10.53</td>\n",
              "      <td>84.54.22.33</td>\n",
              "    </tr>\n",
              "    <tr>\n",
              "      <th>28</th>\n",
              "      <td>10.1.10.53</td>\n",
              "      <td>84.54.22.33</td>\n",
              "    </tr>\n",
              "    <tr>\n",
              "      <th>30</th>\n",
              "      <td>10.1.10.53</td>\n",
              "      <td>84.54.22.33</td>\n",
              "    </tr>\n",
              "    <tr>\n",
              "      <th>32</th>\n",
              "      <td>10.1.10.53</td>\n",
              "      <td>84.54.22.33</td>\n",
              "    </tr>\n",
              "    <tr>\n",
              "      <th>34</th>\n",
              "      <td>10.1.10.53</td>\n",
              "      <td>84.54.22.33</td>\n",
              "    </tr>\n",
              "    <tr>\n",
              "      <th>36</th>\n",
              "      <td>10.1.10.53</td>\n",
              "      <td>84.54.22.33</td>\n",
              "    </tr>\n",
              "    <tr>\n",
              "      <th>38</th>\n",
              "      <td>10.1.10.53</td>\n",
              "      <td>84.54.22.33</td>\n",
              "    </tr>\n",
              "    <tr>\n",
              "      <th>40</th>\n",
              "      <td>10.1.10.53</td>\n",
              "      <td>84.54.22.33</td>\n",
              "    </tr>\n",
              "    <tr>\n",
              "      <th>42</th>\n",
              "      <td>10.1.10.53</td>\n",
              "      <td>84.54.22.33</td>\n",
              "    </tr>\n",
              "    <tr>\n",
              "      <th>44</th>\n",
              "      <td>10.1.10.53</td>\n",
              "      <td>84.54.22.33</td>\n",
              "    </tr>\n",
              "    <tr>\n",
              "      <th>46</th>\n",
              "      <td>10.1.10.53</td>\n",
              "      <td>84.54.22.33</td>\n",
              "    </tr>\n",
              "    <tr>\n",
              "      <th>48</th>\n",
              "      <td>10.1.10.53</td>\n",
              "      <td>84.54.22.33</td>\n",
              "    </tr>\n",
              "    <tr>\n",
              "      <th>50</th>\n",
              "      <td>10.1.10.53</td>\n",
              "      <td>84.54.22.33</td>\n",
              "    </tr>\n",
              "    <tr>\n",
              "      <th>52</th>\n",
              "      <td>10.1.10.53</td>\n",
              "      <td>84.54.22.33</td>\n",
              "    </tr>\n",
              "    <tr>\n",
              "      <th>54</th>\n",
              "      <td>10.1.10.53</td>\n",
              "      <td>84.54.22.33</td>\n",
              "    </tr>\n",
              "    <tr>\n",
              "      <th>56</th>\n",
              "      <td>10.1.10.53</td>\n",
              "      <td>84.54.22.33</td>\n",
              "    </tr>\n",
              "    <tr>\n",
              "      <th>58</th>\n",
              "      <td>10.1.10.53</td>\n",
              "      <td>84.54.22.33</td>\n",
              "    </tr>\n",
              "    <tr>\n",
              "      <th>60</th>\n",
              "      <td>10.1.10.53</td>\n",
              "      <td>84.54.22.33</td>\n",
              "    </tr>\n",
              "  </tbody>\n",
              "</table>\n",
              "</div>\n",
              "      <button class=\"colab-df-convert\" onclick=\"convertToInteractive('df-5886b265-85ed-4016-a67e-cf89dd8c2a40')\"\n",
              "              title=\"Convert this dataframe to an interactive table.\"\n",
              "              style=\"display:none;\">\n",
              "        \n",
              "  <svg xmlns=\"http://www.w3.org/2000/svg\" height=\"24px\"viewBox=\"0 0 24 24\"\n",
              "       width=\"24px\">\n",
              "    <path d=\"M0 0h24v24H0V0z\" fill=\"none\"/>\n",
              "    <path d=\"M18.56 5.44l.94 2.06.94-2.06 2.06-.94-2.06-.94-.94-2.06-.94 2.06-2.06.94zm-11 1L8.5 8.5l.94-2.06 2.06-.94-2.06-.94L8.5 2.5l-.94 2.06-2.06.94zm10 10l.94 2.06.94-2.06 2.06-.94-2.06-.94-.94-2.06-.94 2.06-2.06.94z\"/><path d=\"M17.41 7.96l-1.37-1.37c-.4-.4-.92-.59-1.43-.59-.52 0-1.04.2-1.43.59L10.3 9.45l-7.72 7.72c-.78.78-.78 2.05 0 2.83L4 21.41c.39.39.9.59 1.41.59.51 0 1.02-.2 1.41-.59l7.78-7.78 2.81-2.81c.8-.78.8-2.07 0-2.86zM5.41 20L4 18.59l7.72-7.72 1.47 1.35L5.41 20z\"/>\n",
              "  </svg>\n",
              "      </button>\n",
              "      \n",
              "  <style>\n",
              "    .colab-df-container {\n",
              "      display:flex;\n",
              "      flex-wrap:wrap;\n",
              "      gap: 12px;\n",
              "    }\n",
              "\n",
              "    .colab-df-convert {\n",
              "      background-color: #E8F0FE;\n",
              "      border: none;\n",
              "      border-radius: 50%;\n",
              "      cursor: pointer;\n",
              "      display: none;\n",
              "      fill: #1967D2;\n",
              "      height: 32px;\n",
              "      padding: 0 0 0 0;\n",
              "      width: 32px;\n",
              "    }\n",
              "\n",
              "    .colab-df-convert:hover {\n",
              "      background-color: #E2EBFA;\n",
              "      box-shadow: 0px 1px 2px rgba(60, 64, 67, 0.3), 0px 1px 3px 1px rgba(60, 64, 67, 0.15);\n",
              "      fill: #174EA6;\n",
              "    }\n",
              "\n",
              "    [theme=dark] .colab-df-convert {\n",
              "      background-color: #3B4455;\n",
              "      fill: #D2E3FC;\n",
              "    }\n",
              "\n",
              "    [theme=dark] .colab-df-convert:hover {\n",
              "      background-color: #434B5C;\n",
              "      box-shadow: 0px 1px 3px 1px rgba(0, 0, 0, 0.15);\n",
              "      filter: drop-shadow(0px 1px 2px rgba(0, 0, 0, 0.3));\n",
              "      fill: #FFFFFF;\n",
              "    }\n",
              "  </style>\n",
              "\n",
              "      <script>\n",
              "        const buttonEl =\n",
              "          document.querySelector('#df-5886b265-85ed-4016-a67e-cf89dd8c2a40 button.colab-df-convert');\n",
              "        buttonEl.style.display =\n",
              "          google.colab.kernel.accessAllowed ? 'block' : 'none';\n",
              "\n",
              "        async function convertToInteractive(key) {\n",
              "          const element = document.querySelector('#df-5886b265-85ed-4016-a67e-cf89dd8c2a40');\n",
              "          const dataTable =\n",
              "            await google.colab.kernel.invokeFunction('convertToInteractive',\n",
              "                                                     [key], {});\n",
              "          if (!dataTable) return;\n",
              "\n",
              "          const docLinkHtml = 'Like what you see? Visit the ' +\n",
              "            '<a target=\"_blank\" href=https://colab.research.google.com/notebooks/data_table.ipynb>data table notebook</a>'\n",
              "            + ' to learn more about interactive tables.';\n",
              "          element.innerHTML = '';\n",
              "          dataTable['output_type'] = 'display_data';\n",
              "          await google.colab.output.renderOutput(dataTable, element);\n",
              "          const docLink = document.createElement('div');\n",
              "          docLink.innerHTML = docLinkHtml;\n",
              "          element.appendChild(docLink);\n",
              "        }\n",
              "      </script>\n",
              "    </div>\n",
              "  </div>\n",
              "  "
            ]
          },
          "metadata": {},
          "execution_count": 42
        }
      ]
    },
    {
      "cell_type": "code",
      "source": [
        "#¿A qué puertos destino se comunica la IP del inciso a?\n",
        "df_new[df_new['src']==source_ip][['src','dport']]"
      ],
      "metadata": {
        "colab": {
          "base_uri": "https://localhost:8080/",
          "height": 1000
        },
        "id": "OxbWdJXCWCmT",
        "outputId": "faa00c61-9186-4cb8-8289-b42fd5ed0ac6"
      },
      "execution_count": 45,
      "outputs": [
        {
          "output_type": "execute_result",
          "data": {
            "text/plain": [
              "           src dport\n",
              "0   10.1.10.53    53\n",
              "2   10.1.10.53    53\n",
              "4   10.1.10.53    53\n",
              "6   10.1.10.53    53\n",
              "8   10.1.10.53    53\n",
              "10  10.1.10.53    53\n",
              "12  10.1.10.53    53\n",
              "14  10.1.10.53    53\n",
              "16  10.1.10.53    53\n",
              "18  10.1.10.53    53\n",
              "20  10.1.10.53    53\n",
              "22  10.1.10.53    53\n",
              "23  10.1.10.53    53\n",
              "26  10.1.10.53    53\n",
              "28  10.1.10.53    53\n",
              "30  10.1.10.53    53\n",
              "32  10.1.10.53    53\n",
              "34  10.1.10.53    53\n",
              "36  10.1.10.53    53\n",
              "38  10.1.10.53    53\n",
              "40  10.1.10.53    53\n",
              "42  10.1.10.53    53\n",
              "44  10.1.10.53    53\n",
              "46  10.1.10.53    53\n",
              "48  10.1.10.53    53\n",
              "50  10.1.10.53    53\n",
              "52  10.1.10.53    53\n",
              "54  10.1.10.53    53\n",
              "56  10.1.10.53    53\n",
              "58  10.1.10.53    53\n",
              "60  10.1.10.53    53"
            ],
            "text/html": [
              "\n",
              "  <div id=\"df-31cad14f-90ed-4cc1-a3b6-5c946add9e5e\">\n",
              "    <div class=\"colab-df-container\">\n",
              "      <div>\n",
              "<style scoped>\n",
              "    .dataframe tbody tr th:only-of-type {\n",
              "        vertical-align: middle;\n",
              "    }\n",
              "\n",
              "    .dataframe tbody tr th {\n",
              "        vertical-align: top;\n",
              "    }\n",
              "\n",
              "    .dataframe thead th {\n",
              "        text-align: right;\n",
              "    }\n",
              "</style>\n",
              "<table border=\"1\" class=\"dataframe\">\n",
              "  <thead>\n",
              "    <tr style=\"text-align: right;\">\n",
              "      <th></th>\n",
              "      <th>src</th>\n",
              "      <th>dport</th>\n",
              "    </tr>\n",
              "  </thead>\n",
              "  <tbody>\n",
              "    <tr>\n",
              "      <th>0</th>\n",
              "      <td>10.1.10.53</td>\n",
              "      <td>53</td>\n",
              "    </tr>\n",
              "    <tr>\n",
              "      <th>2</th>\n",
              "      <td>10.1.10.53</td>\n",
              "      <td>53</td>\n",
              "    </tr>\n",
              "    <tr>\n",
              "      <th>4</th>\n",
              "      <td>10.1.10.53</td>\n",
              "      <td>53</td>\n",
              "    </tr>\n",
              "    <tr>\n",
              "      <th>6</th>\n",
              "      <td>10.1.10.53</td>\n",
              "      <td>53</td>\n",
              "    </tr>\n",
              "    <tr>\n",
              "      <th>8</th>\n",
              "      <td>10.1.10.53</td>\n",
              "      <td>53</td>\n",
              "    </tr>\n",
              "    <tr>\n",
              "      <th>10</th>\n",
              "      <td>10.1.10.53</td>\n",
              "      <td>53</td>\n",
              "    </tr>\n",
              "    <tr>\n",
              "      <th>12</th>\n",
              "      <td>10.1.10.53</td>\n",
              "      <td>53</td>\n",
              "    </tr>\n",
              "    <tr>\n",
              "      <th>14</th>\n",
              "      <td>10.1.10.53</td>\n",
              "      <td>53</td>\n",
              "    </tr>\n",
              "    <tr>\n",
              "      <th>16</th>\n",
              "      <td>10.1.10.53</td>\n",
              "      <td>53</td>\n",
              "    </tr>\n",
              "    <tr>\n",
              "      <th>18</th>\n",
              "      <td>10.1.10.53</td>\n",
              "      <td>53</td>\n",
              "    </tr>\n",
              "    <tr>\n",
              "      <th>20</th>\n",
              "      <td>10.1.10.53</td>\n",
              "      <td>53</td>\n",
              "    </tr>\n",
              "    <tr>\n",
              "      <th>22</th>\n",
              "      <td>10.1.10.53</td>\n",
              "      <td>53</td>\n",
              "    </tr>\n",
              "    <tr>\n",
              "      <th>23</th>\n",
              "      <td>10.1.10.53</td>\n",
              "      <td>53</td>\n",
              "    </tr>\n",
              "    <tr>\n",
              "      <th>26</th>\n",
              "      <td>10.1.10.53</td>\n",
              "      <td>53</td>\n",
              "    </tr>\n",
              "    <tr>\n",
              "      <th>28</th>\n",
              "      <td>10.1.10.53</td>\n",
              "      <td>53</td>\n",
              "    </tr>\n",
              "    <tr>\n",
              "      <th>30</th>\n",
              "      <td>10.1.10.53</td>\n",
              "      <td>53</td>\n",
              "    </tr>\n",
              "    <tr>\n",
              "      <th>32</th>\n",
              "      <td>10.1.10.53</td>\n",
              "      <td>53</td>\n",
              "    </tr>\n",
              "    <tr>\n",
              "      <th>34</th>\n",
              "      <td>10.1.10.53</td>\n",
              "      <td>53</td>\n",
              "    </tr>\n",
              "    <tr>\n",
              "      <th>36</th>\n",
              "      <td>10.1.10.53</td>\n",
              "      <td>53</td>\n",
              "    </tr>\n",
              "    <tr>\n",
              "      <th>38</th>\n",
              "      <td>10.1.10.53</td>\n",
              "      <td>53</td>\n",
              "    </tr>\n",
              "    <tr>\n",
              "      <th>40</th>\n",
              "      <td>10.1.10.53</td>\n",
              "      <td>53</td>\n",
              "    </tr>\n",
              "    <tr>\n",
              "      <th>42</th>\n",
              "      <td>10.1.10.53</td>\n",
              "      <td>53</td>\n",
              "    </tr>\n",
              "    <tr>\n",
              "      <th>44</th>\n",
              "      <td>10.1.10.53</td>\n",
              "      <td>53</td>\n",
              "    </tr>\n",
              "    <tr>\n",
              "      <th>46</th>\n",
              "      <td>10.1.10.53</td>\n",
              "      <td>53</td>\n",
              "    </tr>\n",
              "    <tr>\n",
              "      <th>48</th>\n",
              "      <td>10.1.10.53</td>\n",
              "      <td>53</td>\n",
              "    </tr>\n",
              "    <tr>\n",
              "      <th>50</th>\n",
              "      <td>10.1.10.53</td>\n",
              "      <td>53</td>\n",
              "    </tr>\n",
              "    <tr>\n",
              "      <th>52</th>\n",
              "      <td>10.1.10.53</td>\n",
              "      <td>53</td>\n",
              "    </tr>\n",
              "    <tr>\n",
              "      <th>54</th>\n",
              "      <td>10.1.10.53</td>\n",
              "      <td>53</td>\n",
              "    </tr>\n",
              "    <tr>\n",
              "      <th>56</th>\n",
              "      <td>10.1.10.53</td>\n",
              "      <td>53</td>\n",
              "    </tr>\n",
              "    <tr>\n",
              "      <th>58</th>\n",
              "      <td>10.1.10.53</td>\n",
              "      <td>53</td>\n",
              "    </tr>\n",
              "    <tr>\n",
              "      <th>60</th>\n",
              "      <td>10.1.10.53</td>\n",
              "      <td>53</td>\n",
              "    </tr>\n",
              "  </tbody>\n",
              "</table>\n",
              "</div>\n",
              "      <button class=\"colab-df-convert\" onclick=\"convertToInteractive('df-31cad14f-90ed-4cc1-a3b6-5c946add9e5e')\"\n",
              "              title=\"Convert this dataframe to an interactive table.\"\n",
              "              style=\"display:none;\">\n",
              "        \n",
              "  <svg xmlns=\"http://www.w3.org/2000/svg\" height=\"24px\"viewBox=\"0 0 24 24\"\n",
              "       width=\"24px\">\n",
              "    <path d=\"M0 0h24v24H0V0z\" fill=\"none\"/>\n",
              "    <path d=\"M18.56 5.44l.94 2.06.94-2.06 2.06-.94-2.06-.94-.94-2.06-.94 2.06-2.06.94zm-11 1L8.5 8.5l.94-2.06 2.06-.94-2.06-.94L8.5 2.5l-.94 2.06-2.06.94zm10 10l.94 2.06.94-2.06 2.06-.94-2.06-.94-.94-2.06-.94 2.06-2.06.94z\"/><path d=\"M17.41 7.96l-1.37-1.37c-.4-.4-.92-.59-1.43-.59-.52 0-1.04.2-1.43.59L10.3 9.45l-7.72 7.72c-.78.78-.78 2.05 0 2.83L4 21.41c.39.39.9.59 1.41.59.51 0 1.02-.2 1.41-.59l7.78-7.78 2.81-2.81c.8-.78.8-2.07 0-2.86zM5.41 20L4 18.59l7.72-7.72 1.47 1.35L5.41 20z\"/>\n",
              "  </svg>\n",
              "      </button>\n",
              "      \n",
              "  <style>\n",
              "    .colab-df-container {\n",
              "      display:flex;\n",
              "      flex-wrap:wrap;\n",
              "      gap: 12px;\n",
              "    }\n",
              "\n",
              "    .colab-df-convert {\n",
              "      background-color: #E8F0FE;\n",
              "      border: none;\n",
              "      border-radius: 50%;\n",
              "      cursor: pointer;\n",
              "      display: none;\n",
              "      fill: #1967D2;\n",
              "      height: 32px;\n",
              "      padding: 0 0 0 0;\n",
              "      width: 32px;\n",
              "    }\n",
              "\n",
              "    .colab-df-convert:hover {\n",
              "      background-color: #E2EBFA;\n",
              "      box-shadow: 0px 1px 2px rgba(60, 64, 67, 0.3), 0px 1px 3px 1px rgba(60, 64, 67, 0.15);\n",
              "      fill: #174EA6;\n",
              "    }\n",
              "\n",
              "    [theme=dark] .colab-df-convert {\n",
              "      background-color: #3B4455;\n",
              "      fill: #D2E3FC;\n",
              "    }\n",
              "\n",
              "    [theme=dark] .colab-df-convert:hover {\n",
              "      background-color: #434B5C;\n",
              "      box-shadow: 0px 1px 3px 1px rgba(0, 0, 0, 0.15);\n",
              "      filter: drop-shadow(0px 1px 2px rgba(0, 0, 0, 0.3));\n",
              "      fill: #FFFFFF;\n",
              "    }\n",
              "  </style>\n",
              "\n",
              "      <script>\n",
              "        const buttonEl =\n",
              "          document.querySelector('#df-31cad14f-90ed-4cc1-a3b6-5c946add9e5e button.colab-df-convert');\n",
              "        buttonEl.style.display =\n",
              "          google.colab.kernel.accessAllowed ? 'block' : 'none';\n",
              "\n",
              "        async function convertToInteractive(key) {\n",
              "          const element = document.querySelector('#df-31cad14f-90ed-4cc1-a3b6-5c946add9e5e');\n",
              "          const dataTable =\n",
              "            await google.colab.kernel.invokeFunction('convertToInteractive',\n",
              "                                                     [key], {});\n",
              "          if (!dataTable) return;\n",
              "\n",
              "          const docLinkHtml = 'Like what you see? Visit the ' +\n",
              "            '<a target=\"_blank\" href=https://colab.research.google.com/notebooks/data_table.ipynb>data table notebook</a>'\n",
              "            + ' to learn more about interactive tables.';\n",
              "          element.innerHTML = '';\n",
              "          dataTable['output_type'] = 'display_data';\n",
              "          await google.colab.output.renderOutput(dataTable, element);\n",
              "          const docLink = document.createElement('div');\n",
              "          docLink.innerHTML = docLinkHtml;\n",
              "          element.appendChild(docLink);\n",
              "        }\n",
              "      </script>\n",
              "    </div>\n",
              "  </div>\n",
              "  "
            ]
          },
          "metadata": {},
          "execution_count": 45
        }
      ]
    },
    {
      "cell_type": "code",
      "source": [
        "#¿A qué puertos origen se comunica la IP del inciso b?\n",
        "df_new[df_new['dst']==dest_ip][['dst','sport']]"
      ],
      "metadata": {
        "colab": {
          "base_uri": "https://localhost:8080/",
          "height": 1000
        },
        "id": "zOhDWk6aWmhw",
        "outputId": "36d42c7f-f229-423f-90b7-ce4a35e15d04"
      },
      "execution_count": 46,
      "outputs": [
        {
          "output_type": "execute_result",
          "data": {
            "text/plain": [
              "           dst sport\n",
              "1   10.1.10.53    53\n",
              "3   10.1.10.53    53\n",
              "5   10.1.10.53    53\n",
              "7   10.1.10.53    53\n",
              "9   10.1.10.53    53\n",
              "11  10.1.10.53    53\n",
              "13  10.1.10.53    53\n",
              "15  10.1.10.53    53\n",
              "17  10.1.10.53    53\n",
              "19  10.1.10.53    53\n",
              "21  10.1.10.53    53\n",
              "24  10.1.10.53    53\n",
              "25  10.1.10.53    53\n",
              "27  10.1.10.53    53\n",
              "29  10.1.10.53    53\n",
              "31  10.1.10.53    53\n",
              "33  10.1.10.53    53\n",
              "35  10.1.10.53    53\n",
              "37  10.1.10.53    53\n",
              "39  10.1.10.53    53\n",
              "41  10.1.10.53    53\n",
              "43  10.1.10.53    53\n",
              "45  10.1.10.53    53\n",
              "47  10.1.10.53    53\n",
              "49  10.1.10.53    53\n",
              "51  10.1.10.53    53\n",
              "53  10.1.10.53    53\n",
              "55  10.1.10.53    53\n",
              "57  10.1.10.53    53\n",
              "59  10.1.10.53    53\n",
              "61  10.1.10.53    53"
            ],
            "text/html": [
              "\n",
              "  <div id=\"df-1164d4fb-df8e-45b1-a40f-cfcb2f565732\">\n",
              "    <div class=\"colab-df-container\">\n",
              "      <div>\n",
              "<style scoped>\n",
              "    .dataframe tbody tr th:only-of-type {\n",
              "        vertical-align: middle;\n",
              "    }\n",
              "\n",
              "    .dataframe tbody tr th {\n",
              "        vertical-align: top;\n",
              "    }\n",
              "\n",
              "    .dataframe thead th {\n",
              "        text-align: right;\n",
              "    }\n",
              "</style>\n",
              "<table border=\"1\" class=\"dataframe\">\n",
              "  <thead>\n",
              "    <tr style=\"text-align: right;\">\n",
              "      <th></th>\n",
              "      <th>dst</th>\n",
              "      <th>sport</th>\n",
              "    </tr>\n",
              "  </thead>\n",
              "  <tbody>\n",
              "    <tr>\n",
              "      <th>1</th>\n",
              "      <td>10.1.10.53</td>\n",
              "      <td>53</td>\n",
              "    </tr>\n",
              "    <tr>\n",
              "      <th>3</th>\n",
              "      <td>10.1.10.53</td>\n",
              "      <td>53</td>\n",
              "    </tr>\n",
              "    <tr>\n",
              "      <th>5</th>\n",
              "      <td>10.1.10.53</td>\n",
              "      <td>53</td>\n",
              "    </tr>\n",
              "    <tr>\n",
              "      <th>7</th>\n",
              "      <td>10.1.10.53</td>\n",
              "      <td>53</td>\n",
              "    </tr>\n",
              "    <tr>\n",
              "      <th>9</th>\n",
              "      <td>10.1.10.53</td>\n",
              "      <td>53</td>\n",
              "    </tr>\n",
              "    <tr>\n",
              "      <th>11</th>\n",
              "      <td>10.1.10.53</td>\n",
              "      <td>53</td>\n",
              "    </tr>\n",
              "    <tr>\n",
              "      <th>13</th>\n",
              "      <td>10.1.10.53</td>\n",
              "      <td>53</td>\n",
              "    </tr>\n",
              "    <tr>\n",
              "      <th>15</th>\n",
              "      <td>10.1.10.53</td>\n",
              "      <td>53</td>\n",
              "    </tr>\n",
              "    <tr>\n",
              "      <th>17</th>\n",
              "      <td>10.1.10.53</td>\n",
              "      <td>53</td>\n",
              "    </tr>\n",
              "    <tr>\n",
              "      <th>19</th>\n",
              "      <td>10.1.10.53</td>\n",
              "      <td>53</td>\n",
              "    </tr>\n",
              "    <tr>\n",
              "      <th>21</th>\n",
              "      <td>10.1.10.53</td>\n",
              "      <td>53</td>\n",
              "    </tr>\n",
              "    <tr>\n",
              "      <th>24</th>\n",
              "      <td>10.1.10.53</td>\n",
              "      <td>53</td>\n",
              "    </tr>\n",
              "    <tr>\n",
              "      <th>25</th>\n",
              "      <td>10.1.10.53</td>\n",
              "      <td>53</td>\n",
              "    </tr>\n",
              "    <tr>\n",
              "      <th>27</th>\n",
              "      <td>10.1.10.53</td>\n",
              "      <td>53</td>\n",
              "    </tr>\n",
              "    <tr>\n",
              "      <th>29</th>\n",
              "      <td>10.1.10.53</td>\n",
              "      <td>53</td>\n",
              "    </tr>\n",
              "    <tr>\n",
              "      <th>31</th>\n",
              "      <td>10.1.10.53</td>\n",
              "      <td>53</td>\n",
              "    </tr>\n",
              "    <tr>\n",
              "      <th>33</th>\n",
              "      <td>10.1.10.53</td>\n",
              "      <td>53</td>\n",
              "    </tr>\n",
              "    <tr>\n",
              "      <th>35</th>\n",
              "      <td>10.1.10.53</td>\n",
              "      <td>53</td>\n",
              "    </tr>\n",
              "    <tr>\n",
              "      <th>37</th>\n",
              "      <td>10.1.10.53</td>\n",
              "      <td>53</td>\n",
              "    </tr>\n",
              "    <tr>\n",
              "      <th>39</th>\n",
              "      <td>10.1.10.53</td>\n",
              "      <td>53</td>\n",
              "    </tr>\n",
              "    <tr>\n",
              "      <th>41</th>\n",
              "      <td>10.1.10.53</td>\n",
              "      <td>53</td>\n",
              "    </tr>\n",
              "    <tr>\n",
              "      <th>43</th>\n",
              "      <td>10.1.10.53</td>\n",
              "      <td>53</td>\n",
              "    </tr>\n",
              "    <tr>\n",
              "      <th>45</th>\n",
              "      <td>10.1.10.53</td>\n",
              "      <td>53</td>\n",
              "    </tr>\n",
              "    <tr>\n",
              "      <th>47</th>\n",
              "      <td>10.1.10.53</td>\n",
              "      <td>53</td>\n",
              "    </tr>\n",
              "    <tr>\n",
              "      <th>49</th>\n",
              "      <td>10.1.10.53</td>\n",
              "      <td>53</td>\n",
              "    </tr>\n",
              "    <tr>\n",
              "      <th>51</th>\n",
              "      <td>10.1.10.53</td>\n",
              "      <td>53</td>\n",
              "    </tr>\n",
              "    <tr>\n",
              "      <th>53</th>\n",
              "      <td>10.1.10.53</td>\n",
              "      <td>53</td>\n",
              "    </tr>\n",
              "    <tr>\n",
              "      <th>55</th>\n",
              "      <td>10.1.10.53</td>\n",
              "      <td>53</td>\n",
              "    </tr>\n",
              "    <tr>\n",
              "      <th>57</th>\n",
              "      <td>10.1.10.53</td>\n",
              "      <td>53</td>\n",
              "    </tr>\n",
              "    <tr>\n",
              "      <th>59</th>\n",
              "      <td>10.1.10.53</td>\n",
              "      <td>53</td>\n",
              "    </tr>\n",
              "    <tr>\n",
              "      <th>61</th>\n",
              "      <td>10.1.10.53</td>\n",
              "      <td>53</td>\n",
              "    </tr>\n",
              "  </tbody>\n",
              "</table>\n",
              "</div>\n",
              "      <button class=\"colab-df-convert\" onclick=\"convertToInteractive('df-1164d4fb-df8e-45b1-a40f-cfcb2f565732')\"\n",
              "              title=\"Convert this dataframe to an interactive table.\"\n",
              "              style=\"display:none;\">\n",
              "        \n",
              "  <svg xmlns=\"http://www.w3.org/2000/svg\" height=\"24px\"viewBox=\"0 0 24 24\"\n",
              "       width=\"24px\">\n",
              "    <path d=\"M0 0h24v24H0V0z\" fill=\"none\"/>\n",
              "    <path d=\"M18.56 5.44l.94 2.06.94-2.06 2.06-.94-2.06-.94-.94-2.06-.94 2.06-2.06.94zm-11 1L8.5 8.5l.94-2.06 2.06-.94-2.06-.94L8.5 2.5l-.94 2.06-2.06.94zm10 10l.94 2.06.94-2.06 2.06-.94-2.06-.94-.94-2.06-.94 2.06-2.06.94z\"/><path d=\"M17.41 7.96l-1.37-1.37c-.4-.4-.92-.59-1.43-.59-.52 0-1.04.2-1.43.59L10.3 9.45l-7.72 7.72c-.78.78-.78 2.05 0 2.83L4 21.41c.39.39.9.59 1.41.59.51 0 1.02-.2 1.41-.59l7.78-7.78 2.81-2.81c.8-.78.8-2.07 0-2.86zM5.41 20L4 18.59l7.72-7.72 1.47 1.35L5.41 20z\"/>\n",
              "  </svg>\n",
              "      </button>\n",
              "      \n",
              "  <style>\n",
              "    .colab-df-container {\n",
              "      display:flex;\n",
              "      flex-wrap:wrap;\n",
              "      gap: 12px;\n",
              "    }\n",
              "\n",
              "    .colab-df-convert {\n",
              "      background-color: #E8F0FE;\n",
              "      border: none;\n",
              "      border-radius: 50%;\n",
              "      cursor: pointer;\n",
              "      display: none;\n",
              "      fill: #1967D2;\n",
              "      height: 32px;\n",
              "      padding: 0 0 0 0;\n",
              "      width: 32px;\n",
              "    }\n",
              "\n",
              "    .colab-df-convert:hover {\n",
              "      background-color: #E2EBFA;\n",
              "      box-shadow: 0px 1px 2px rgba(60, 64, 67, 0.3), 0px 1px 3px 1px rgba(60, 64, 67, 0.15);\n",
              "      fill: #174EA6;\n",
              "    }\n",
              "\n",
              "    [theme=dark] .colab-df-convert {\n",
              "      background-color: #3B4455;\n",
              "      fill: #D2E3FC;\n",
              "    }\n",
              "\n",
              "    [theme=dark] .colab-df-convert:hover {\n",
              "      background-color: #434B5C;\n",
              "      box-shadow: 0px 1px 3px 1px rgba(0, 0, 0, 0.15);\n",
              "      filter: drop-shadow(0px 1px 2px rgba(0, 0, 0, 0.3));\n",
              "      fill: #FFFFFF;\n",
              "    }\n",
              "  </style>\n",
              "\n",
              "      <script>\n",
              "        const buttonEl =\n",
              "          document.querySelector('#df-1164d4fb-df8e-45b1-a40f-cfcb2f565732 button.colab-df-convert');\n",
              "        buttonEl.style.display =\n",
              "          google.colab.kernel.accessAllowed ? 'block' : 'none';\n",
              "\n",
              "        async function convertToInteractive(key) {\n",
              "          const element = document.querySelector('#df-1164d4fb-df8e-45b1-a40f-cfcb2f565732');\n",
              "          const dataTable =\n",
              "            await google.colab.kernel.invokeFunction('convertToInteractive',\n",
              "                                                     [key], {});\n",
              "          if (!dataTable) return;\n",
              "\n",
              "          const docLinkHtml = 'Like what you see? Visit the ' +\n",
              "            '<a target=\"_blank\" href=https://colab.research.google.com/notebooks/data_table.ipynb>data table notebook</a>'\n",
              "            + ' to learn more about interactive tables.';\n",
              "          element.innerHTML = '';\n",
              "          dataTable['output_type'] = 'display_data';\n",
              "          await google.colab.output.renderOutput(dataTable, element);\n",
              "          const docLink = document.createElement('div');\n",
              "          docLink.innerHTML = docLinkHtml;\n",
              "          element.appendChild(docLink);\n",
              "        }\n",
              "      </script>\n",
              "    </div>\n",
              "  </div>\n",
              "  "
            ]
          },
          "metadata": {},
          "execution_count": 46
        }
      ]
    },
    {
      "cell_type": "markdown",
      "source": [
        "#Indique el propósito de los puertos que más aparece en los incisos d y e\n",
        "En este caso el puerto que mas aparece es el puerto 53 el cual es utilizado por servicios DNS y permite usar tanto TCP como UDP para comunicarse con servidores DNS. "
      ],
      "metadata": {
        "id": "XICoyGUpj4LG"
      }
    },
    {
      "cell_type": "markdown",
      "source": [
        "# Graficas"
      ],
      "metadata": {
        "id": "z_kEpszlkCv0"
      }
    },
    {
      "cell_type": "code",
      "source": [
        "#Muestre una gráfica 2D, en el eje Y las IPs origen, y en el eje X la suma de los payloads\n",
        "#enviados de dichas direcciones.\n",
        "import matplotlib.pyplot as plt\n",
        "\n",
        "df_new.groupby('src')['payload'].sum().sort_values(ascending=False).plot.barh(x='payload')"
      ],
      "metadata": {
        "colab": {
          "base_uri": "https://localhost:8080/",
          "height": 451
        },
        "id": "igzDSeWkj3eL",
        "outputId": "81f6979e-24cc-4840-a6cc-4d3a652ea753"
      },
      "execution_count": 55,
      "outputs": [
        {
          "output_type": "execute_result",
          "data": {
            "text/plain": [
              "<Axes: ylabel='src'>"
            ]
          },
          "metadata": {},
          "execution_count": 55
        },
        {
          "output_type": "display_data",
          "data": {
            "text/plain": [
              "<Figure size 640x480 with 1 Axes>"
            ],
            "image/png": "[encoded data removed]"
          },
          "metadata": {}
        }
      ]
    },
    {
      "cell_type": "code",
      "source": [],
      "metadata": {
        "id": "L6Mv2-ywlRvy"
      },
      "execution_count": null,
      "outputs": []
    }
  ],
  "metadata": {
    "kernelspec": {
      "display_name": "Python 3",
      "language": "python",
      "name": "python3"
    },
    "language_info": {
      "codemirror_mode": {
        "name": "ipython",
        "version": 3
      },
      "file_extension": ".py",
      "mimetype": "text/x-python",
      "name": "python",
      "nbconvert_exporter": "python",
      "pygments_lexer": "ipython3",
      "version": "3.8.0"
    },
    "orig_nbformat": 4,
    "colab": {
      "provenance": []
    }
  },
  "nbformat": 4,
  "nbformat_minor": 0
}